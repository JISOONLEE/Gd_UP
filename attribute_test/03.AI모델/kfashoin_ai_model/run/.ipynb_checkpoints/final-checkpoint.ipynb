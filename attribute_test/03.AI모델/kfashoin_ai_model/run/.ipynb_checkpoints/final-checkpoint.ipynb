{
 "cells": [
  {
   "cell_type": "code",
   "execution_count": 1,
   "id": "515d22a6",
   "metadata": {},
   "outputs": [],
   "source": [
    "import numpy as np\n",
    "import pandas as pd\n",
    "from PIL import Image\n",
    "\n",
    "import json\n",
    "import easydict\n",
    "from collections import OrderedDict\n",
    "\n",
    "# import argparse\n",
    "from utility.load_data_c import *\n",
    "from utility.resnest import *\n",
    "from utility.engine_test_att import *"
   ]
  },
  {
   "cell_type": "code",
   "execution_count": 2,
   "id": "eabb353c",
   "metadata": {},
   "outputs": [
    {
     "data": {
      "text/plain": [
       "False"
      ]
     },
     "execution_count": 2,
     "metadata": {},
     "output_type": "execute_result"
    }
   ],
   "source": [
    "torch.cuda.is_available()"
   ]
  },
  {
   "cell_type": "code",
   "execution_count": 3,
   "id": "41a63740",
   "metadata": {},
   "outputs": [],
   "source": [
    "raw_data = {'가디건':'../test_img/가디건.jpg',\n",
    "            '니트웨어':'../test_img/니트웨어.jpg',\n",
    "            '드레스':'../test_img/드레스.jpg',\n",
    "            '래깅스':'../test_img/래깅스.jpg',\n",
    "            '베스트':'../test_img/베스트.jpg',\n",
    "            '브라탑':'../test_img/브라탑.jpg',\n",
    "            '블라우스':'../test_img/블라우스.jpg',\n",
    "            '셔츠':'../test_img/셔츠.jpg',\n",
    "            '스커트':'../test_img/스커트.jpg',\n",
    "            '재킷':'../test_img/재킷.jpg',\n",
    "            '점퍼':'../test_img/점퍼.jpg',\n",
    "            '점프수트':'../test_img/점프수트.jpg',\n",
    "            '조거팬츠':'../test_img/조거팬츠.jpg',\n",
    "            '짚업':'../test_img/짚업.jpg',\n",
    "            '청바지':'../test_img/청바지.jpg',\n",
    "            '코트':'../test_img/코트.jpg',\n",
    "            '티셔츠':'../test_img/티셔츠.jpg',\n",
    "            '패딩':'../test_img/패딩.jpg',\n",
    "            '팬츠':'../test_img/팬츠.jpg',\n",
    "            '후드티':'../test_img/후드티.jpg'\n",
    "           }\n",
    "\n",
    "category_label = {0:'재킷',\n",
    "                  1:'조거팬츠',\n",
    "                  2:'짚업',\n",
    "                  3:'스커트',\n",
    "                  4:'가디건',\n",
    "                  5:'점퍼',\n",
    "                  6:'티셔츠',\n",
    "                  7:'셔츠',\n",
    "                  8:'팬츠',\n",
    "                  9:'드레스',\n",
    "                  10:'패딩',\n",
    "                  11:'청바지',\n",
    "                  12:'점프수트',\n",
    "                  13:'니트웨어',\n",
    "                  14:'베스트',\n",
    "                  15:'코트',\n",
    "                  16:'브라탑',\n",
    "                  17:'블라우스',\n",
    "                  18:'탑',\n",
    "                  19:'후드티',\n",
    "                  20:'래깅스'\n",
    "                 }\n",
    "\n",
    "parameter_state = {'attribute':'category',\n",
    "                   'image_size':224\n",
    "                  }\n",
    "\n",
    "phase = '가디건'"
   ]
  },
  {
   "cell_type": "code",
   "execution_count": null,
   "id": "a1246c46",
   "metadata": {},
   "outputs": [],
   "source": []
  },
  {
   "cell_type": "code",
   "execution_count": 4,
   "id": "7f8e1140",
   "metadata": {},
   "outputs": [],
   "source": [
    "\n",
    "\n",
    "def run_attribute_classifier(model_name ='texture'):\n",
    "    global args, best_prec1, use_gpu\n",
    "#     args = parser.parse_args()\n",
    "    args = easydict.EasyDict({\n",
    "        'image_size':224, # 224\n",
    "        'workers':-1,\n",
    "        'device_ids':[0,1,2,3],\n",
    "        'batch_size':20, # 128\n",
    "        'evaluate':True\n",
    "    })\n",
    "    \n",
    "    use_gpu = torch.cuda.is_available()\n",
    "    state = {'batch_size': args.batch_size, 'image_size': args.image_size,\n",
    "             'evaluate': args.evaluate}\n",
    "\n",
    "    if model_name == 'category':\n",
    "        num_classes = 21\n",
    "        state['resume'] = '../checkpoint/kfashion_category/model_category_best.pth.tar'\n",
    "    elif model_name == 'detail':\n",
    "        num_classes = 40\n",
    "        state['resume'] = '../checkpoint/kfashion_detail/model_detail_best.pth.tar'\n",
    "    elif model_name == 'texture':\n",
    "        num_classes = 27\n",
    "        state['resume'] = '../checkpoint/kfashion_texture/model_texture_best.pth.tar'\n",
    "    elif model_name == 'print':\n",
    "        num_classes = 21\n",
    "        state['resume'] = '../checkpoint/kfashion_print/model_print_best.pth.tar'\n",
    "\n",
    "    test_dataset = load_data(attribute = model_name, phase='test', num_classes = num_classes)\n",
    "\n",
    "    model = resnest50d(pretrained=False, nc=num_classes)\n",
    "    state['evaluate'] = True\n",
    "    criterion = nn.MultiLabelSoftMarginLoss()\n",
    "    engine = Engine(state)\n",
    "    a = engine.learning(model, criterion, test_dataset, model_name)\n",
    "    return a, state"
   ]
  },
  {
   "cell_type": "code",
   "execution_count": 15,
   "id": "b170589a",
   "metadata": {
    "scrolled": true
   },
   "outputs": [
    {
     "name": "stdout",
     "output_type": "stream",
     "text": [
      "Starting..\n",
      "=> loading checkpoint '../checkpoint/kfashion_category/model_category_best.pth.tar'\n"
     ]
    },
    {
     "name": "stderr",
     "output_type": "stream",
     "text": [
      "Test:   0%|          | 0/1 [00:32<?, ?it/s]\n"
     ]
    },
    {
     "ename": "RuntimeError",
     "evalue": "[enforce fail at ..\\c10\\core\\CPUAllocator.cpp:76] data. DefaultCPUAllocator: not enough memory: you tried to allocate 4194304 bytes.",
     "output_type": "error",
     "traceback": [
      "\u001b[1;31m---------------------------------------------------------------------------\u001b[0m",
      "\u001b[1;31mRuntimeError\u001b[0m                              Traceback (most recent call last)",
      "\u001b[1;32m~\\AppData\\Local\\Temp/ipykernel_3592/2840999236.py\u001b[0m in \u001b[0;36m<module>\u001b[1;34m\u001b[0m\n\u001b[0;32m      4\u001b[0m \u001b[1;33m\u001b[0m\u001b[0m\n\u001b[0;32m      5\u001b[0m     \u001b[0mlst\u001b[0m \u001b[1;33m=\u001b[0m \u001b[1;33m[\u001b[0m\u001b[1;33m]\u001b[0m\u001b[1;33m\u001b[0m\u001b[1;33m\u001b[0m\u001b[0m\n\u001b[1;32m----> 6\u001b[1;33m     \u001b[0mp1\u001b[0m\u001b[1;33m,\u001b[0m \u001b[0mstate\u001b[0m \u001b[1;33m=\u001b[0m \u001b[0mrun_attribute_classifier\u001b[0m\u001b[1;33m(\u001b[0m\u001b[0mmodel_name\u001b[0m\u001b[1;33m=\u001b[0m\u001b[1;34m'category'\u001b[0m\u001b[1;33m)\u001b[0m\u001b[1;33m\u001b[0m\u001b[1;33m\u001b[0m\u001b[0m\n\u001b[0m\u001b[0;32m      7\u001b[0m     \u001b[0mlst\u001b[0m\u001b[1;33m.\u001b[0m\u001b[0mappend\u001b[0m\u001b[1;33m(\u001b[0m\u001b[0mp1\u001b[0m\u001b[1;33m)\u001b[0m\u001b[1;33m\u001b[0m\u001b[1;33m\u001b[0m\u001b[0m\n\u001b[0;32m      8\u001b[0m     \u001b[0mprint\u001b[0m\u001b[1;33m(\u001b[0m\u001b[1;34m\"[DONE] category time spent :{:.4f}\"\u001b[0m\u001b[1;33m.\u001b[0m\u001b[0mformat\u001b[0m\u001b[1;33m(\u001b[0m\u001b[0mtime\u001b[0m\u001b[1;33m.\u001b[0m\u001b[0mtime\u001b[0m\u001b[1;33m(\u001b[0m\u001b[1;33m)\u001b[0m \u001b[1;33m-\u001b[0m \u001b[0mstartTime\u001b[0m\u001b[1;33m)\u001b[0m\u001b[1;33m)\u001b[0m\u001b[1;33m\u001b[0m\u001b[1;33m\u001b[0m\u001b[0m\n",
      "\u001b[1;32m~\\AppData\\Local\\Temp/ipykernel_3592/814975589.py\u001b[0m in \u001b[0;36mrun_attribute_classifier\u001b[1;34m(model_name)\u001b[0m\n\u001b[0;32m     33\u001b[0m     \u001b[0mcriterion\u001b[0m \u001b[1;33m=\u001b[0m \u001b[0mnn\u001b[0m\u001b[1;33m.\u001b[0m\u001b[0mMultiLabelSoftMarginLoss\u001b[0m\u001b[1;33m(\u001b[0m\u001b[1;33m)\u001b[0m\u001b[1;33m\u001b[0m\u001b[1;33m\u001b[0m\u001b[0m\n\u001b[0;32m     34\u001b[0m     \u001b[0mengine\u001b[0m \u001b[1;33m=\u001b[0m \u001b[0mEngine\u001b[0m\u001b[1;33m(\u001b[0m\u001b[0mstate\u001b[0m\u001b[1;33m)\u001b[0m\u001b[1;33m\u001b[0m\u001b[1;33m\u001b[0m\u001b[0m\n\u001b[1;32m---> 35\u001b[1;33m     \u001b[0ma\u001b[0m \u001b[1;33m=\u001b[0m \u001b[0mengine\u001b[0m\u001b[1;33m.\u001b[0m\u001b[0mlearning\u001b[0m\u001b[1;33m(\u001b[0m\u001b[0mmodel\u001b[0m\u001b[1;33m,\u001b[0m \u001b[0mcriterion\u001b[0m\u001b[1;33m,\u001b[0m \u001b[0mtest_dataset\u001b[0m\u001b[1;33m,\u001b[0m \u001b[0mmodel_name\u001b[0m\u001b[1;33m)\u001b[0m\u001b[1;33m\u001b[0m\u001b[1;33m\u001b[0m\u001b[0m\n\u001b[0m\u001b[0;32m     36\u001b[0m     \u001b[1;32mreturn\u001b[0m \u001b[0ma\u001b[0m\u001b[1;33m,\u001b[0m \u001b[0mstate\u001b[0m\u001b[1;33m\u001b[0m\u001b[1;33m\u001b[0m\u001b[0m\n",
      "\u001b[1;32mC:\\SSAFY_second\\ssafy_git\\S06P12B108\\attribute_test\\03.AI모델\\kfashoin_ai_model\\run\\utility\\engine_test_att.py\u001b[0m in \u001b[0;36mlearning\u001b[1;34m(self, model, criterion, val_dataset, model_name)\u001b[0m\n\u001b[0;32m    160\u001b[0m \u001b[1;33m\u001b[0m\u001b[0m\n\u001b[0;32m    161\u001b[0m         \u001b[1;32mif\u001b[0m \u001b[0mself\u001b[0m\u001b[1;33m.\u001b[0m\u001b[0mstate\u001b[0m\u001b[1;33m[\u001b[0m\u001b[1;34m'evaluate'\u001b[0m\u001b[1;33m]\u001b[0m\u001b[1;33m:\u001b[0m\u001b[1;33m\u001b[0m\u001b[1;33m\u001b[0m\u001b[0m\n\u001b[1;32m--> 162\u001b[1;33m             \u001b[0ma\u001b[0m \u001b[1;33m=\u001b[0m \u001b[0mself\u001b[0m\u001b[1;33m.\u001b[0m\u001b[0mvalidate\u001b[0m\u001b[1;33m(\u001b[0m\u001b[0mval_loader\u001b[0m\u001b[1;33m,\u001b[0m \u001b[0mmodel\u001b[0m\u001b[1;33m,\u001b[0m \u001b[0mcriterion\u001b[0m\u001b[1;33m,\u001b[0m \u001b[0mmodel_name\u001b[0m\u001b[1;33m)\u001b[0m\u001b[1;33m\u001b[0m\u001b[1;33m\u001b[0m\u001b[0m\n\u001b[0m\u001b[0;32m    163\u001b[0m             \u001b[0mprint\u001b[0m\u001b[1;33m(\u001b[0m\u001b[1;34m'Top-3 recall:'\u001b[0m\u001b[1;33m,\u001b[0m \u001b[0ma\u001b[0m\u001b[1;33m)\u001b[0m\u001b[1;33m\u001b[0m\u001b[1;33m\u001b[0m\u001b[0m\n\u001b[0;32m    164\u001b[0m             \u001b[1;32mreturn\u001b[0m \u001b[0ma\u001b[0m\u001b[1;33m\u001b[0m\u001b[1;33m\u001b[0m\u001b[0m\n",
      "\u001b[1;32mC:\\SSAFY_second\\ssafy_git\\S06P12B108\\attribute_test\\03.AI모델\\kfashoin_ai_model\\run\\utility\\engine_test_att.py\u001b[0m in \u001b[0;36mvalidate\u001b[1;34m(self, data_loader, model, criterion, model_name)\u001b[0m\n\u001b[0;32m    183\u001b[0m                 \u001b[0mself\u001b[0m\u001b[1;33m.\u001b[0m\u001b[0mstate\u001b[0m\u001b[1;33m[\u001b[0m\u001b[1;34m'target'\u001b[0m\u001b[1;33m]\u001b[0m \u001b[1;33m=\u001b[0m \u001b[0mself\u001b[0m\u001b[1;33m.\u001b[0m\u001b[0mstate\u001b[0m\u001b[1;33m[\u001b[0m\u001b[1;34m'target'\u001b[0m\u001b[1;33m]\u001b[0m\u001b[1;33m.\u001b[0m\u001b[0mcuda\u001b[0m\u001b[1;33m(\u001b[0m\u001b[0mnon_blocking\u001b[0m\u001b[1;33m=\u001b[0m\u001b[1;32mTrue\u001b[0m\u001b[1;33m)\u001b[0m\u001b[1;33m\u001b[0m\u001b[1;33m\u001b[0m\u001b[0m\n\u001b[0;32m    184\u001b[0m \u001b[1;33m\u001b[0m\u001b[0m\n\u001b[1;32m--> 185\u001b[1;33m             \u001b[0mself\u001b[0m\u001b[1;33m.\u001b[0m\u001b[0mon_forward\u001b[0m\u001b[1;33m(\u001b[0m\u001b[1;32mFalse\u001b[0m\u001b[1;33m,\u001b[0m \u001b[0mmodel\u001b[0m\u001b[1;33m,\u001b[0m \u001b[0mcriterion\u001b[0m\u001b[1;33m,\u001b[0m \u001b[0mdata_loader\u001b[0m\u001b[1;33m)\u001b[0m\u001b[1;33m\u001b[0m\u001b[1;33m\u001b[0m\u001b[0m\n\u001b[0m\u001b[0;32m    186\u001b[0m \u001b[1;33m\u001b[0m\u001b[0m\n\u001b[0;32m    187\u001b[0m \u001b[1;33m\u001b[0m\u001b[0m\n",
      "\u001b[1;32mC:\\SSAFY_second\\ssafy_git\\S06P12B108\\attribute_test\\03.AI모델\\kfashoin_ai_model\\run\\utility\\engine_test_att.py\u001b[0m in \u001b[0;36mon_forward\u001b[1;34m(self, training, model, criterion, data_loader, optimizer, display)\u001b[0m\n\u001b[0;32m     56\u001b[0m \u001b[1;33m\u001b[0m\u001b[0m\n\u001b[0;32m     57\u001b[0m         \u001b[1;31m# compute output\u001b[0m\u001b[1;33m\u001b[0m\u001b[1;33m\u001b[0m\u001b[0m\n\u001b[1;32m---> 58\u001b[1;33m         \u001b[0mself\u001b[0m\u001b[1;33m.\u001b[0m\u001b[0mstate\u001b[0m\u001b[1;33m[\u001b[0m\u001b[1;34m'output'\u001b[0m\u001b[1;33m]\u001b[0m \u001b[1;33m=\u001b[0m \u001b[0mmodel\u001b[0m\u001b[1;33m(\u001b[0m\u001b[0mfeature_var\u001b[0m\u001b[1;33m)\u001b[0m\u001b[1;33m\u001b[0m\u001b[1;33m\u001b[0m\u001b[0m\n\u001b[0m\u001b[0;32m     59\u001b[0m         \u001b[0mself\u001b[0m\u001b[1;33m.\u001b[0m\u001b[0mstate\u001b[0m\u001b[1;33m[\u001b[0m\u001b[1;34m'loss'\u001b[0m\u001b[1;33m]\u001b[0m \u001b[1;33m=\u001b[0m \u001b[0mcriterion\u001b[0m\u001b[1;33m(\u001b[0m\u001b[0mself\u001b[0m\u001b[1;33m.\u001b[0m\u001b[0mstate\u001b[0m\u001b[1;33m[\u001b[0m\u001b[1;34m'output'\u001b[0m\u001b[1;33m]\u001b[0m\u001b[1;33m,\u001b[0m \u001b[0mtarget_var\u001b[0m\u001b[1;33m)\u001b[0m\u001b[1;33m\u001b[0m\u001b[1;33m\u001b[0m\u001b[0m\n\u001b[0;32m     60\u001b[0m \u001b[1;33m\u001b[0m\u001b[0m\n",
      "\u001b[1;32m~\\anaconda3\\lib\\site-packages\\torch\\nn\\modules\\module.py\u001b[0m in \u001b[0;36m_call_impl\u001b[1;34m(self, *input, **kwargs)\u001b[0m\n\u001b[0;32m   1100\u001b[0m         if not (self._backward_hooks or self._forward_hooks or self._forward_pre_hooks or _global_backward_hooks\n\u001b[0;32m   1101\u001b[0m                 or _global_forward_hooks or _global_forward_pre_hooks):\n\u001b[1;32m-> 1102\u001b[1;33m             \u001b[1;32mreturn\u001b[0m \u001b[0mforward_call\u001b[0m\u001b[1;33m(\u001b[0m\u001b[1;33m*\u001b[0m\u001b[0minput\u001b[0m\u001b[1;33m,\u001b[0m \u001b[1;33m**\u001b[0m\u001b[0mkwargs\u001b[0m\u001b[1;33m)\u001b[0m\u001b[1;33m\u001b[0m\u001b[1;33m\u001b[0m\u001b[0m\n\u001b[0m\u001b[0;32m   1103\u001b[0m         \u001b[1;31m# Do not call functions when jit is used\u001b[0m\u001b[1;33m\u001b[0m\u001b[1;33m\u001b[0m\u001b[0m\n\u001b[0;32m   1104\u001b[0m         \u001b[0mfull_backward_hooks\u001b[0m\u001b[1;33m,\u001b[0m \u001b[0mnon_full_backward_hooks\u001b[0m \u001b[1;33m=\u001b[0m \u001b[1;33m[\u001b[0m\u001b[1;33m]\u001b[0m\u001b[1;33m,\u001b[0m \u001b[1;33m[\u001b[0m\u001b[1;33m]\u001b[0m\u001b[1;33m\u001b[0m\u001b[1;33m\u001b[0m\u001b[0m\n",
      "\u001b[1;32mC:\\SSAFY_second\\ssafy_git\\S06P12B108\\attribute_test\\03.AI모델\\kfashoin_ai_model\\run\\utility\\resnet.py\u001b[0m in \u001b[0;36mforward\u001b[1;34m(self, x)\u001b[0m\n\u001b[0;32m    529\u001b[0m \u001b[1;33m\u001b[0m\u001b[0m\n\u001b[0;32m    530\u001b[0m     \u001b[1;32mdef\u001b[0m \u001b[0mforward\u001b[0m\u001b[1;33m(\u001b[0m\u001b[0mself\u001b[0m\u001b[1;33m,\u001b[0m \u001b[0mx\u001b[0m\u001b[1;33m)\u001b[0m\u001b[1;33m:\u001b[0m\u001b[1;33m\u001b[0m\u001b[1;33m\u001b[0m\u001b[0m\n\u001b[1;32m--> 531\u001b[1;33m         \u001b[0mx\u001b[0m \u001b[1;33m=\u001b[0m \u001b[0mself\u001b[0m\u001b[1;33m.\u001b[0m\u001b[0mforward_features\u001b[0m\u001b[1;33m(\u001b[0m\u001b[0mx\u001b[0m\u001b[1;33m)\u001b[0m\u001b[1;33m\u001b[0m\u001b[1;33m\u001b[0m\u001b[0m\n\u001b[0m\u001b[0;32m    532\u001b[0m         \u001b[0mx\u001b[0m \u001b[1;33m=\u001b[0m \u001b[0mself\u001b[0m\u001b[1;33m.\u001b[0m\u001b[0mglobal_pool\u001b[0m\u001b[1;33m(\u001b[0m\u001b[0mx\u001b[0m\u001b[1;33m)\u001b[0m\u001b[1;33m\u001b[0m\u001b[1;33m\u001b[0m\u001b[0m\n\u001b[0;32m    533\u001b[0m         \u001b[1;32mif\u001b[0m \u001b[0mself\u001b[0m\u001b[1;33m.\u001b[0m\u001b[0mdrop_rate\u001b[0m\u001b[1;33m:\u001b[0m\u001b[1;33m\u001b[0m\u001b[1;33m\u001b[0m\u001b[0m\n",
      "\u001b[1;32mC:\\SSAFY_second\\ssafy_git\\S06P12B108\\attribute_test\\03.AI모델\\kfashoin_ai_model\\run\\utility\\resnet.py\u001b[0m in \u001b[0;36mforward_features\u001b[1;34m(self, x)\u001b[0m\n\u001b[0;32m    525\u001b[0m         \u001b[0mx\u001b[0m \u001b[1;33m=\u001b[0m \u001b[0mself\u001b[0m\u001b[1;33m.\u001b[0m\u001b[0mlayer2\u001b[0m\u001b[1;33m(\u001b[0m\u001b[0mx\u001b[0m\u001b[1;33m)\u001b[0m\u001b[1;33m\u001b[0m\u001b[1;33m\u001b[0m\u001b[0m\n\u001b[0;32m    526\u001b[0m         \u001b[0mx\u001b[0m \u001b[1;33m=\u001b[0m \u001b[0mself\u001b[0m\u001b[1;33m.\u001b[0m\u001b[0mlayer3\u001b[0m\u001b[1;33m(\u001b[0m\u001b[0mx\u001b[0m\u001b[1;33m)\u001b[0m\u001b[1;33m\u001b[0m\u001b[1;33m\u001b[0m\u001b[0m\n\u001b[1;32m--> 527\u001b[1;33m         \u001b[0mx\u001b[0m \u001b[1;33m=\u001b[0m \u001b[0mself\u001b[0m\u001b[1;33m.\u001b[0m\u001b[0mlayer4\u001b[0m\u001b[1;33m(\u001b[0m\u001b[0mx\u001b[0m\u001b[1;33m)\u001b[0m\u001b[1;33m\u001b[0m\u001b[1;33m\u001b[0m\u001b[0m\n\u001b[0m\u001b[0;32m    528\u001b[0m         \u001b[1;32mreturn\u001b[0m \u001b[0mx\u001b[0m\u001b[1;33m\u001b[0m\u001b[1;33m\u001b[0m\u001b[0m\n\u001b[0;32m    529\u001b[0m \u001b[1;33m\u001b[0m\u001b[0m\n",
      "\u001b[1;32m~\\anaconda3\\lib\\site-packages\\torch\\nn\\modules\\module.py\u001b[0m in \u001b[0;36m_call_impl\u001b[1;34m(self, *input, **kwargs)\u001b[0m\n\u001b[0;32m   1100\u001b[0m         if not (self._backward_hooks or self._forward_hooks or self._forward_pre_hooks or _global_backward_hooks\n\u001b[0;32m   1101\u001b[0m                 or _global_forward_hooks or _global_forward_pre_hooks):\n\u001b[1;32m-> 1102\u001b[1;33m             \u001b[1;32mreturn\u001b[0m \u001b[0mforward_call\u001b[0m\u001b[1;33m(\u001b[0m\u001b[1;33m*\u001b[0m\u001b[0minput\u001b[0m\u001b[1;33m,\u001b[0m \u001b[1;33m**\u001b[0m\u001b[0mkwargs\u001b[0m\u001b[1;33m)\u001b[0m\u001b[1;33m\u001b[0m\u001b[1;33m\u001b[0m\u001b[0m\n\u001b[0m\u001b[0;32m   1103\u001b[0m         \u001b[1;31m# Do not call functions when jit is used\u001b[0m\u001b[1;33m\u001b[0m\u001b[1;33m\u001b[0m\u001b[0m\n\u001b[0;32m   1104\u001b[0m         \u001b[0mfull_backward_hooks\u001b[0m\u001b[1;33m,\u001b[0m \u001b[0mnon_full_backward_hooks\u001b[0m \u001b[1;33m=\u001b[0m \u001b[1;33m[\u001b[0m\u001b[1;33m]\u001b[0m\u001b[1;33m,\u001b[0m \u001b[1;33m[\u001b[0m\u001b[1;33m]\u001b[0m\u001b[1;33m\u001b[0m\u001b[1;33m\u001b[0m\u001b[0m\n",
      "\u001b[1;32m~\\anaconda3\\lib\\site-packages\\torch\\nn\\modules\\container.py\u001b[0m in \u001b[0;36mforward\u001b[1;34m(self, input)\u001b[0m\n\u001b[0;32m    139\u001b[0m     \u001b[1;32mdef\u001b[0m \u001b[0mforward\u001b[0m\u001b[1;33m(\u001b[0m\u001b[0mself\u001b[0m\u001b[1;33m,\u001b[0m \u001b[0minput\u001b[0m\u001b[1;33m)\u001b[0m\u001b[1;33m:\u001b[0m\u001b[1;33m\u001b[0m\u001b[1;33m\u001b[0m\u001b[0m\n\u001b[0;32m    140\u001b[0m         \u001b[1;32mfor\u001b[0m \u001b[0mmodule\u001b[0m \u001b[1;32min\u001b[0m \u001b[0mself\u001b[0m\u001b[1;33m:\u001b[0m\u001b[1;33m\u001b[0m\u001b[1;33m\u001b[0m\u001b[0m\n\u001b[1;32m--> 141\u001b[1;33m             \u001b[0minput\u001b[0m \u001b[1;33m=\u001b[0m \u001b[0mmodule\u001b[0m\u001b[1;33m(\u001b[0m\u001b[0minput\u001b[0m\u001b[1;33m)\u001b[0m\u001b[1;33m\u001b[0m\u001b[1;33m\u001b[0m\u001b[0m\n\u001b[0m\u001b[0;32m    142\u001b[0m         \u001b[1;32mreturn\u001b[0m \u001b[0minput\u001b[0m\u001b[1;33m\u001b[0m\u001b[1;33m\u001b[0m\u001b[0m\n\u001b[0;32m    143\u001b[0m \u001b[1;33m\u001b[0m\u001b[0m\n",
      "\u001b[1;32m~\\anaconda3\\lib\\site-packages\\torch\\nn\\modules\\module.py\u001b[0m in \u001b[0;36m_call_impl\u001b[1;34m(self, *input, **kwargs)\u001b[0m\n\u001b[0;32m   1100\u001b[0m         if not (self._backward_hooks or self._forward_hooks or self._forward_pre_hooks or _global_backward_hooks\n\u001b[0;32m   1101\u001b[0m                 or _global_forward_hooks or _global_forward_pre_hooks):\n\u001b[1;32m-> 1102\u001b[1;33m             \u001b[1;32mreturn\u001b[0m \u001b[0mforward_call\u001b[0m\u001b[1;33m(\u001b[0m\u001b[1;33m*\u001b[0m\u001b[0minput\u001b[0m\u001b[1;33m,\u001b[0m \u001b[1;33m**\u001b[0m\u001b[0mkwargs\u001b[0m\u001b[1;33m)\u001b[0m\u001b[1;33m\u001b[0m\u001b[1;33m\u001b[0m\u001b[0m\n\u001b[0m\u001b[0;32m   1103\u001b[0m         \u001b[1;31m# Do not call functions when jit is used\u001b[0m\u001b[1;33m\u001b[0m\u001b[1;33m\u001b[0m\u001b[0m\n\u001b[0;32m   1104\u001b[0m         \u001b[0mfull_backward_hooks\u001b[0m\u001b[1;33m,\u001b[0m \u001b[0mnon_full_backward_hooks\u001b[0m \u001b[1;33m=\u001b[0m \u001b[1;33m[\u001b[0m\u001b[1;33m]\u001b[0m\u001b[1;33m,\u001b[0m \u001b[1;33m[\u001b[0m\u001b[1;33m]\u001b[0m\u001b[1;33m\u001b[0m\u001b[1;33m\u001b[0m\u001b[0m\n",
      "\u001b[1;32mC:\\SSAFY_second\\ssafy_git\\S06P12B108\\attribute_test\\03.AI모델\\kfashoin_ai_model\\run\\utility\\resnest.py\u001b[0m in \u001b[0;36mforward\u001b[1;34m(self, x)\u001b[0m\n\u001b[0;32m    125\u001b[0m             \u001b[0mout\u001b[0m \u001b[1;33m=\u001b[0m \u001b[0mself\u001b[0m\u001b[1;33m.\u001b[0m\u001b[0mavd_last\u001b[0m\u001b[1;33m(\u001b[0m\u001b[0mout\u001b[0m\u001b[1;33m)\u001b[0m\u001b[1;33m\u001b[0m\u001b[1;33m\u001b[0m\u001b[0m\n\u001b[0;32m    126\u001b[0m \u001b[1;33m\u001b[0m\u001b[0m\n\u001b[1;32m--> 127\u001b[1;33m         \u001b[0mout\u001b[0m \u001b[1;33m=\u001b[0m \u001b[0mself\u001b[0m\u001b[1;33m.\u001b[0m\u001b[0mconv3\u001b[0m\u001b[1;33m(\u001b[0m\u001b[0mout\u001b[0m\u001b[1;33m)\u001b[0m\u001b[1;33m\u001b[0m\u001b[1;33m\u001b[0m\u001b[0m\n\u001b[0m\u001b[0;32m    128\u001b[0m         \u001b[0mout\u001b[0m \u001b[1;33m=\u001b[0m \u001b[0mself\u001b[0m\u001b[1;33m.\u001b[0m\u001b[0mbn3\u001b[0m\u001b[1;33m(\u001b[0m\u001b[0mout\u001b[0m\u001b[1;33m)\u001b[0m\u001b[1;33m\u001b[0m\u001b[1;33m\u001b[0m\u001b[0m\n\u001b[0;32m    129\u001b[0m         \u001b[1;32mif\u001b[0m \u001b[0mself\u001b[0m\u001b[1;33m.\u001b[0m\u001b[0mdrop_block\u001b[0m \u001b[1;32mis\u001b[0m \u001b[1;32mnot\u001b[0m \u001b[1;32mNone\u001b[0m\u001b[1;33m:\u001b[0m\u001b[1;33m\u001b[0m\u001b[1;33m\u001b[0m\u001b[0m\n",
      "\u001b[1;32m~\\anaconda3\\lib\\site-packages\\torch\\nn\\modules\\module.py\u001b[0m in \u001b[0;36m_call_impl\u001b[1;34m(self, *input, **kwargs)\u001b[0m\n\u001b[0;32m   1100\u001b[0m         if not (self._backward_hooks or self._forward_hooks or self._forward_pre_hooks or _global_backward_hooks\n\u001b[0;32m   1101\u001b[0m                 or _global_forward_hooks or _global_forward_pre_hooks):\n\u001b[1;32m-> 1102\u001b[1;33m             \u001b[1;32mreturn\u001b[0m \u001b[0mforward_call\u001b[0m\u001b[1;33m(\u001b[0m\u001b[1;33m*\u001b[0m\u001b[0minput\u001b[0m\u001b[1;33m,\u001b[0m \u001b[1;33m**\u001b[0m\u001b[0mkwargs\u001b[0m\u001b[1;33m)\u001b[0m\u001b[1;33m\u001b[0m\u001b[1;33m\u001b[0m\u001b[0m\n\u001b[0m\u001b[0;32m   1103\u001b[0m         \u001b[1;31m# Do not call functions when jit is used\u001b[0m\u001b[1;33m\u001b[0m\u001b[1;33m\u001b[0m\u001b[0m\n\u001b[0;32m   1104\u001b[0m         \u001b[0mfull_backward_hooks\u001b[0m\u001b[1;33m,\u001b[0m \u001b[0mnon_full_backward_hooks\u001b[0m \u001b[1;33m=\u001b[0m \u001b[1;33m[\u001b[0m\u001b[1;33m]\u001b[0m\u001b[1;33m,\u001b[0m \u001b[1;33m[\u001b[0m\u001b[1;33m]\u001b[0m\u001b[1;33m\u001b[0m\u001b[1;33m\u001b[0m\u001b[0m\n",
      "\u001b[1;32m~\\anaconda3\\lib\\site-packages\\torch\\nn\\modules\\conv.py\u001b[0m in \u001b[0;36mforward\u001b[1;34m(self, input)\u001b[0m\n\u001b[0;32m    444\u001b[0m \u001b[1;33m\u001b[0m\u001b[0m\n\u001b[0;32m    445\u001b[0m     \u001b[1;32mdef\u001b[0m \u001b[0mforward\u001b[0m\u001b[1;33m(\u001b[0m\u001b[0mself\u001b[0m\u001b[1;33m,\u001b[0m \u001b[0minput\u001b[0m\u001b[1;33m:\u001b[0m \u001b[0mTensor\u001b[0m\u001b[1;33m)\u001b[0m \u001b[1;33m->\u001b[0m \u001b[0mTensor\u001b[0m\u001b[1;33m:\u001b[0m\u001b[1;33m\u001b[0m\u001b[1;33m\u001b[0m\u001b[0m\n\u001b[1;32m--> 446\u001b[1;33m         \u001b[1;32mreturn\u001b[0m \u001b[0mself\u001b[0m\u001b[1;33m.\u001b[0m\u001b[0m_conv_forward\u001b[0m\u001b[1;33m(\u001b[0m\u001b[0minput\u001b[0m\u001b[1;33m,\u001b[0m \u001b[0mself\u001b[0m\u001b[1;33m.\u001b[0m\u001b[0mweight\u001b[0m\u001b[1;33m,\u001b[0m \u001b[0mself\u001b[0m\u001b[1;33m.\u001b[0m\u001b[0mbias\u001b[0m\u001b[1;33m)\u001b[0m\u001b[1;33m\u001b[0m\u001b[1;33m\u001b[0m\u001b[0m\n\u001b[0m\u001b[0;32m    447\u001b[0m \u001b[1;33m\u001b[0m\u001b[0m\n\u001b[0;32m    448\u001b[0m \u001b[1;32mclass\u001b[0m \u001b[0mConv3d\u001b[0m\u001b[1;33m(\u001b[0m\u001b[0m_ConvNd\u001b[0m\u001b[1;33m)\u001b[0m\u001b[1;33m:\u001b[0m\u001b[1;33m\u001b[0m\u001b[1;33m\u001b[0m\u001b[0m\n",
      "\u001b[1;32m~\\anaconda3\\lib\\site-packages\\torch\\nn\\modules\\conv.py\u001b[0m in \u001b[0;36m_conv_forward\u001b[1;34m(self, input, weight, bias)\u001b[0m\n\u001b[0;32m    440\u001b[0m                             \u001b[0mweight\u001b[0m\u001b[1;33m,\u001b[0m \u001b[0mbias\u001b[0m\u001b[1;33m,\u001b[0m \u001b[0mself\u001b[0m\u001b[1;33m.\u001b[0m\u001b[0mstride\u001b[0m\u001b[1;33m,\u001b[0m\u001b[1;33m\u001b[0m\u001b[1;33m\u001b[0m\u001b[0m\n\u001b[0;32m    441\u001b[0m                             _pair(0), self.dilation, self.groups)\n\u001b[1;32m--> 442\u001b[1;33m         return F.conv2d(input, weight, bias, self.stride,\n\u001b[0m\u001b[0;32m    443\u001b[0m                         self.padding, self.dilation, self.groups)\n\u001b[0;32m    444\u001b[0m \u001b[1;33m\u001b[0m\u001b[0m\n",
      "\u001b[1;31mRuntimeError\u001b[0m: [enforce fail at ..\\c10\\core\\CPUAllocator.cpp:76] data. DefaultCPUAllocator: not enough memory: you tried to allocate 4194304 bytes."
     ]
    }
   ],
   "source": [
    "if __name__ == '__main__':\n",
    "    startTime = time.time()\n",
    "    print(\"Starting..\")\n",
    "\n",
    "#     lst = []\n",
    "#     p1, state = run_attribute_classifier(model_name='category')\n",
    "#     lst.append(p1)\n",
    "#     print(\"[DONE] category time spent :{:.4f}\".format(time.time() - startTime))\n",
    "    \n",
    "    p3, state= run_attribute_classifier(model_name='texture')\n",
    "    lst.append(p3)\n",
    "    print(\"[DONE] texture time spent :{:.4f}\".format(time.time() - startTime))\n"
   ]
  },
  {
   "cell_type": "code",
   "execution_count": 6,
   "id": "e035f671",
   "metadata": {
    "scrolled": false
   },
   "outputs": [
    {
     "data": {
      "text/plain": [
       "[tensor([[[[-2.1179, -2.1179, -2.1179,  ..., -2.1179, -2.1179, -2.1179],\n",
       "           [-2.1179, -2.1179, -2.1179,  ..., -2.1179, -2.1179, -2.1179],\n",
       "           [-2.1179, -2.1179, -2.1179,  ..., -2.1179, -2.1179, -2.1179],\n",
       "           ...,\n",
       "           [-2.1179, -2.1179, -2.1179,  ..., -2.1179, -2.1179, -2.1179],\n",
       "           [-2.1179, -2.1179, -2.1179,  ..., -2.1179, -2.1179, -2.1179],\n",
       "           [-2.1179, -2.1179, -2.1179,  ..., -2.1179, -2.1179, -2.1179]],\n",
       " \n",
       "          [[-2.0357, -2.0357, -2.0357,  ..., -2.0357, -2.0357, -2.0357],\n",
       "           [-2.0357, -2.0357, -2.0357,  ..., -2.0357, -2.0357, -2.0357],\n",
       "           [-2.0357, -2.0357, -2.0357,  ..., -2.0357, -2.0357, -2.0357],\n",
       "           ...,\n",
       "           [-2.0357, -2.0357, -2.0357,  ..., -2.0357, -2.0357, -2.0357],\n",
       "           [-2.0357, -2.0357, -2.0357,  ..., -2.0357, -2.0357, -2.0357],\n",
       "           [-2.0357, -2.0357, -2.0357,  ..., -2.0357, -2.0357, -2.0357]],\n",
       " \n",
       "          [[-1.8044, -1.8044, -1.8044,  ..., -1.8044, -1.8044, -1.8044],\n",
       "           [-1.8044, -1.8044, -1.8044,  ..., -1.8044, -1.8044, -1.8044],\n",
       "           [-1.8044, -1.8044, -1.8044,  ..., -1.8044, -1.8044, -1.8044],\n",
       "           ...,\n",
       "           [-1.8044, -1.8044, -1.8044,  ..., -1.8044, -1.8044, -1.8044],\n",
       "           [-1.8044, -1.8044, -1.8044,  ..., -1.8044, -1.8044, -1.8044],\n",
       "           [-1.8044, -1.8044, -1.8044,  ..., -1.8044, -1.8044, -1.8044]]],\n",
       " \n",
       " \n",
       "         [[[-2.1179, -2.1179, -2.1179,  ..., -2.1179, -2.1179, -2.1179],\n",
       "           [-2.1179, -2.1179, -2.1179,  ..., -2.1179, -2.1179, -2.1179],\n",
       "           [-2.1179, -2.1179, -2.1179,  ..., -2.1179, -2.1179, -2.1179],\n",
       "           ...,\n",
       "           [-2.1179, -2.1179, -2.1179,  ..., -2.1179, -2.1179, -2.1179],\n",
       "           [-2.1179, -2.1179, -2.1179,  ..., -2.1179, -2.1179, -2.1179],\n",
       "           [-2.1179, -2.1179, -2.1179,  ..., -2.1179, -2.1179, -2.1179]],\n",
       " \n",
       "          [[-2.0357, -2.0357, -2.0357,  ..., -2.0357, -2.0357, -2.0357],\n",
       "           [-2.0357, -2.0357, -2.0357,  ..., -2.0357, -2.0357, -2.0357],\n",
       "           [-2.0357, -2.0357, -2.0357,  ..., -2.0357, -2.0357, -2.0357],\n",
       "           ...,\n",
       "           [-2.0357, -2.0357, -2.0357,  ..., -2.0357, -2.0357, -2.0357],\n",
       "           [-2.0357, -2.0357, -2.0357,  ..., -2.0357, -2.0357, -2.0357],\n",
       "           [-2.0357, -2.0357, -2.0357,  ..., -2.0357, -2.0357, -2.0357]],\n",
       " \n",
       "          [[-1.8044, -1.8044, -1.8044,  ..., -1.8044, -1.8044, -1.8044],\n",
       "           [-1.8044, -1.8044, -1.8044,  ..., -1.8044, -1.8044, -1.8044],\n",
       "           [-1.8044, -1.8044, -1.8044,  ..., -1.8044, -1.8044, -1.8044],\n",
       "           ...,\n",
       "           [-1.8044, -1.8044, -1.8044,  ..., -1.8044, -1.8044, -1.8044],\n",
       "           [-1.8044, -1.8044, -1.8044,  ..., -1.8044, -1.8044, -1.8044],\n",
       "           [-1.8044, -1.8044, -1.8044,  ..., -1.8044, -1.8044, -1.8044]]],\n",
       " \n",
       " \n",
       "         [[[-2.1179, -2.1179, -2.1179,  ..., -2.1179, -2.1179, -2.1179],\n",
       "           [-2.1179, -2.1179, -2.1179,  ..., -2.1179, -2.1179, -2.1179],\n",
       "           [-2.1179, -2.1179, -2.1179,  ..., -2.1179, -2.1179, -2.1179],\n",
       "           ...,\n",
       "           [-2.1179, -2.1179, -2.1179,  ..., -2.1179, -2.1179, -2.1179],\n",
       "           [-2.1179, -2.1179, -2.1179,  ..., -2.1179, -2.1179, -2.1179],\n",
       "           [-2.1179, -2.1179, -2.1179,  ..., -2.1179, -2.1179, -2.1179]],\n",
       " \n",
       "          [[-2.0357, -2.0357, -2.0357,  ..., -2.0357, -2.0357, -2.0357],\n",
       "           [-2.0357, -2.0357, -2.0357,  ..., -2.0357, -2.0357, -2.0357],\n",
       "           [-2.0357, -2.0357, -2.0357,  ..., -2.0357, -2.0357, -2.0357],\n",
       "           ...,\n",
       "           [-2.0357, -2.0357, -2.0357,  ..., -2.0357, -2.0357, -2.0357],\n",
       "           [-2.0357, -2.0357, -2.0357,  ..., -2.0357, -2.0357, -2.0357],\n",
       "           [-2.0357, -2.0357, -2.0357,  ..., -2.0357, -2.0357, -2.0357]],\n",
       " \n",
       "          [[-1.8044, -1.8044, -1.8044,  ..., -1.8044, -1.8044, -1.8044],\n",
       "           [-1.8044, -1.8044, -1.8044,  ..., -1.8044, -1.8044, -1.8044],\n",
       "           [-1.8044, -1.8044, -1.8044,  ..., -1.8044, -1.8044, -1.8044],\n",
       "           ...,\n",
       "           [-1.8044, -1.8044, -1.8044,  ..., -1.8044, -1.8044, -1.8044],\n",
       "           [-1.8044, -1.8044, -1.8044,  ..., -1.8044, -1.8044, -1.8044],\n",
       "           [-1.8044, -1.8044, -1.8044,  ..., -1.8044, -1.8044, -1.8044]]],\n",
       " \n",
       " \n",
       "         ...,\n",
       " \n",
       " \n",
       "         [[[-2.1179, -2.1179, -2.1179,  ..., -2.1179, -2.1179, -2.1179],\n",
       "           [-2.1179, -2.1179, -2.1179,  ..., -2.1179, -2.1179, -2.1179],\n",
       "           [-2.1179, -2.1179, -2.1179,  ..., -2.1179, -2.1179, -2.1179],\n",
       "           ...,\n",
       "           [-2.1179, -2.1179, -2.1179,  ..., -2.1179, -2.1179, -2.1179],\n",
       "           [-2.1179, -2.1179, -2.1179,  ..., -2.1179, -2.1179, -2.1179],\n",
       "           [-2.1179, -2.1179, -2.1179,  ..., -2.1179, -2.1179, -2.1179]],\n",
       " \n",
       "          [[-2.0357, -2.0357, -2.0357,  ..., -2.0357, -2.0357, -2.0357],\n",
       "           [-2.0357, -2.0357, -2.0357,  ..., -2.0357, -2.0357, -2.0357],\n",
       "           [-2.0357, -2.0357, -2.0357,  ..., -2.0357, -2.0357, -2.0357],\n",
       "           ...,\n",
       "           [-2.0357, -2.0357, -2.0357,  ..., -2.0357, -2.0357, -2.0357],\n",
       "           [-2.0357, -2.0357, -2.0357,  ..., -2.0357, -2.0357, -2.0357],\n",
       "           [-2.0357, -2.0357, -2.0357,  ..., -2.0357, -2.0357, -2.0357]],\n",
       " \n",
       "          [[-1.8044, -1.8044, -1.8044,  ..., -1.8044, -1.8044, -1.8044],\n",
       "           [-1.8044, -1.8044, -1.8044,  ..., -1.8044, -1.8044, -1.8044],\n",
       "           [-1.8044, -1.8044, -1.8044,  ..., -1.8044, -1.8044, -1.8044],\n",
       "           ...,\n",
       "           [-1.8044, -1.8044, -1.8044,  ..., -1.8044, -1.8044, -1.8044],\n",
       "           [-1.8044, -1.8044, -1.8044,  ..., -1.8044, -1.8044, -1.8044],\n",
       "           [-1.8044, -1.8044, -1.8044,  ..., -1.8044, -1.8044, -1.8044]]],\n",
       " \n",
       " \n",
       "         [[[-2.1179, -2.1179, -2.1179,  ..., -2.1179, -2.1179, -2.1179],\n",
       "           [-2.1179, -2.1179, -2.1179,  ..., -2.1179, -2.1179, -2.1179],\n",
       "           [-2.1179, -2.1179, -2.1179,  ..., -2.1179, -2.1179, -2.1179],\n",
       "           ...,\n",
       "           [-2.1179, -2.1179, -2.1179,  ..., -2.1179, -2.1179, -2.1179],\n",
       "           [-2.1179, -2.1179, -2.1179,  ..., -2.1179, -2.1179, -2.1179],\n",
       "           [-2.1179, -2.1179, -2.1179,  ..., -2.1179, -2.1179, -2.1179]],\n",
       " \n",
       "          [[-2.0357, -2.0357, -2.0357,  ..., -2.0357, -2.0357, -2.0357],\n",
       "           [-2.0357, -2.0357, -2.0357,  ..., -2.0357, -2.0357, -2.0357],\n",
       "           [-2.0357, -2.0357, -2.0357,  ..., -2.0357, -2.0357, -2.0357],\n",
       "           ...,\n",
       "           [-2.0357, -2.0357, -2.0357,  ..., -2.0357, -2.0357, -2.0357],\n",
       "           [-2.0357, -2.0357, -2.0357,  ..., -2.0357, -2.0357, -2.0357],\n",
       "           [-2.0357, -2.0357, -2.0357,  ..., -2.0357, -2.0357, -2.0357]],\n",
       " \n",
       "          [[-1.8044, -1.8044, -1.8044,  ..., -1.8044, -1.8044, -1.8044],\n",
       "           [-1.8044, -1.8044, -1.8044,  ..., -1.8044, -1.8044, -1.8044],\n",
       "           [-1.8044, -1.8044, -1.8044,  ..., -1.8044, -1.8044, -1.8044],\n",
       "           ...,\n",
       "           [-1.8044, -1.8044, -1.8044,  ..., -1.8044, -1.8044, -1.8044],\n",
       "           [-1.8044, -1.8044, -1.8044,  ..., -1.8044, -1.8044, -1.8044],\n",
       "           [-1.8044, -1.8044, -1.8044,  ..., -1.8044, -1.8044, -1.8044]]],\n",
       " \n",
       " \n",
       "         [[[-2.1179, -2.1179, -2.1179,  ..., -2.1179, -2.1179, -2.1179],\n",
       "           [-2.1179, -2.1179, -2.1179,  ..., -2.1179, -2.1179, -2.1179],\n",
       "           [-2.1179, -2.1179, -2.1179,  ..., -2.1179, -2.1179, -2.1179],\n",
       "           ...,\n",
       "           [ 1.6324,  2.0948,  1.8208,  ..., -2.1179, -2.1179, -2.1179],\n",
       "           [ 2.0263,  2.0948,  1.9578,  ..., -2.1179, -2.1179, -2.1179],\n",
       "           [ 2.0777,  1.9920,  1.8722,  ..., -2.1179, -2.1179, -2.1179]],\n",
       " \n",
       "          [[-2.0357, -2.0357, -2.0357,  ..., -2.0357, -2.0357, -2.0357],\n",
       "           [-2.0357, -2.0357, -2.0357,  ..., -2.0357, -2.0357, -2.0357],\n",
       "           [-2.0357, -2.0357, -2.0357,  ..., -2.0357, -2.0357, -2.0357],\n",
       "           ...,\n",
       "           [ 1.8333,  2.3060,  1.9909,  ..., -2.0357, -2.0357, -2.0357],\n",
       "           [ 2.2185,  2.2885,  2.1485,  ..., -2.0357, -2.0357, -2.0357],\n",
       "           [ 2.2885,  2.1835,  2.0609,  ..., -2.0357, -2.0357, -2.0357]],\n",
       " \n",
       "          [[-1.8044, -1.8044, -1.8044,  ..., -1.8044, -1.8044, -1.8044],\n",
       "           [-1.8044, -1.8044, -1.8044,  ..., -1.8044, -1.8044, -1.8044],\n",
       "           [-1.8044, -1.8044, -1.8044,  ..., -1.8044, -1.8044, -1.8044],\n",
       "           ...,\n",
       "           [ 1.9603,  2.4308,  2.1346,  ..., -1.8044, -1.8044, -1.8044],\n",
       "           [ 2.3611,  2.4134,  2.2740,  ..., -1.8044, -1.8044, -1.8044],\n",
       "           [ 2.4134,  2.3088,  2.1868,  ..., -1.8044, -1.8044, -1.8044]]]]),\n",
       " ('../test_img/가디건.jpg',\n",
       "  '../test_img/니트웨어.jpg',\n",
       "  '../test_img/드레스.jpg',\n",
       "  '../test_img/래깅스.jpg',\n",
       "  '../test_img/베스트.jpg',\n",
       "  '../test_img/브라탑.jpg',\n",
       "  '../test_img/블라우스.jpg',\n",
       "  '../test_img/셔츠.jpg',\n",
       "  '../test_img/스커트.jpg',\n",
       "  '../test_img/재킷.jpg',\n",
       "  '../test_img/점퍼.jpg',\n",
       "  '../test_img/점프수트.jpg',\n",
       "  '../test_img/조거팬츠.jpg',\n",
       "  '../test_img/짚업.jpg',\n",
       "  '../test_img/청바지.jpg',\n",
       "  '../test_img/코트.jpg',\n",
       "  '../test_img/티셔츠.jpg',\n",
       "  '../test_img/패딩.jpg',\n",
       "  '../test_img/팬츠.jpg',\n",
       "  '../test_img/후드티.jpg')]"
      ]
     },
     "execution_count": 6,
     "metadata": {},
     "output_type": "execute_result"
    }
   ],
   "source": [
    "state['input']"
   ]
  },
  {
   "cell_type": "code",
   "execution_count": 7,
   "id": "25618934",
   "metadata": {
    "scrolled": false
   },
   "outputs": [
    {
     "data": {
      "text/plain": [
       "[6, 13, 14, 9, 7, 8, 17, 7, 9, 6, 7, 10, 8, 0, 11, 15, 9, 10, 8, 19]"
      ]
     },
     "execution_count": 7,
     "metadata": {},
     "output_type": "execute_result"
    }
   ],
   "source": [
    "output = state['output'].detach().cpu().numpy()\n",
    "[np.argmax(i) for i in output]"
   ]
  },
  {
   "cell_type": "code",
   "execution_count": 8,
   "id": "c8f45d9c",
   "metadata": {
    "scrolled": false
   },
   "outputs": [
    {
     "data": {
      "text/plain": [
       "[4, 13, 9, 20, 14, 16, 17, 7, 3, 0, 5, 12, 1, 2, 11, 15, 6, 10, 8, 19]"
      ]
     },
     "execution_count": 8,
     "metadata": {},
     "output_type": "execute_result"
    }
   ],
   "source": [
    "target = state['target'].detach().cpu().numpy().tolist()\n",
    "[i.index(1) for i in target]"
   ]
  },
  {
   "cell_type": "code",
   "execution_count": 9,
   "id": "d8cddd8b",
   "metadata": {},
   "outputs": [
    {
     "data": {
      "text/plain": [
       "tensor([[ -3.7726,  -7.4724,  -5.0440,  -8.7445,  -4.9126,  -4.2459,   0.6980,\n",
       "          -2.2898,  -7.7043,  -6.3025,  -6.6479,  -4.1665,  -7.1329,  -3.7319,\n",
       "          -6.0430,  -6.5173,  -5.9288,  -3.5917,  -2.5218,  -3.9628,  -7.9968],\n",
       "        [ -2.5665,  -9.3700,  -4.4696,  -8.4053,  -1.7084,  -4.2994,  -1.8158,\n",
       "          -4.7763,  -7.8184,  -4.9969,  -5.2017,  -8.5668,  -8.0476,  -0.0544,\n",
       "          -4.2211,  -2.5769,  -6.6643,  -5.0671,  -2.7468,  -4.1032,  -7.9923],\n",
       "        [ -2.2956,  -6.3746,  -3.3364,  -3.0806,  -1.8104,  -2.3798,  -6.2395,\n",
       "          -7.0190,  -4.6010,  -1.6461,  -1.5925,  -5.0115,  -4.8347,  -4.3575,\n",
       "          -1.5438,  -2.4193,  -6.3191,  -6.7415,  -5.3482,  -6.5497,  -4.7697],\n",
       "        [ -4.6241,  -4.5345,  -6.2653,  -5.1019,  -4.7285,  -6.2845,  -5.2417,\n",
       "          -6.4026,  -1.1223,  -0.4654,  -5.5873,  -4.8044,  -2.2434,  -4.6160,\n",
       "          -3.9995,  -5.6098,  -5.9936,  -6.5704,  -4.5945,  -6.9150,  -5.5475],\n",
       "        [ -3.4054,  -4.6286,  -5.4234,  -5.7787,  -5.1261,  -4.8950,  -3.2629,\n",
       "          -0.7635,  -2.1653,  -3.2305,  -5.4825,  -3.6947,  -4.5841,  -2.9834,\n",
       "          -5.0150,  -4.7165,  -5.3879,  -3.2385,  -4.1614,  -4.5594,  -6.8860],\n",
       "        [ -4.8981,  -3.4515,  -6.8865,  -4.4874,  -5.8365,  -6.8839,  -5.4979,\n",
       "          -6.4473,   0.1415,  -2.6637,  -6.6258,  -5.4883,  -1.2303,  -5.9443,\n",
       "          -4.3525,  -6.5641,  -5.4779,  -6.7290,  -4.3851,  -7.6009,  -5.4973],\n",
       "        [ -5.3563,  -7.1991,  -6.0490,  -8.7699,  -6.5079,  -5.4533,  -1.5836,\n",
       "          -1.4515,  -8.0591,  -3.3271,  -8.2803,  -7.6813,  -7.0362,  -3.9786,\n",
       "          -7.0697,  -5.9564,  -5.8150,  -1.1947,  -3.1536,  -3.0623,  -8.9144],\n",
       "        [ -3.0446,  -4.7068,  -3.7239,  -5.5897,  -4.4361,  -2.8502,  -3.0388,\n",
       "           0.3935,  -4.3892,  -2.2488,  -5.2849,  -4.3674,  -4.9707,  -4.5414,\n",
       "          -5.2061,  -4.0582,  -5.0972,  -3.3481,  -4.1364,  -2.7960,  -5.9996],\n",
       "        [ -1.4445,  -7.6003,  -5.2195,  -4.8777,  -4.1844,  -3.7949,  -5.4426,\n",
       "          -4.0006,  -5.2114,  -0.2618,  -7.2838,  -7.2106,  -4.9485,  -7.4642,\n",
       "          -4.1030,  -3.0593,  -6.9527,  -3.3285,  -6.1652,  -7.5404,  -9.1267],\n",
       "        [ -1.4027,  -6.6969,  -3.7366,  -7.3036,  -3.9793,  -2.4962,  -0.5371,\n",
       "          -2.2807,  -4.7335,  -5.5072,  -4.5750,  -6.3397,  -5.9313,  -2.9569,\n",
       "          -4.5690,  -3.2363,  -5.6582,  -3.4205,  -3.1590,  -3.6248,  -7.2141],\n",
       "        [ -1.7263,  -5.7730,  -3.3372,  -5.5476,  -4.8273,  -1.7504,  -2.3712,\n",
       "          -1.2197,  -4.7841,  -4.6151,  -4.5303,  -6.0317,  -5.9233,  -4.0906,\n",
       "          -5.0591,  -3.2597,  -5.4972,  -2.1846,  -3.9890,  -2.6902,  -6.8057],\n",
       "        [ -2.3202,  -4.5874,  -3.2780,  -5.3044,  -4.2127,  -1.8100,  -6.4291,\n",
       "          -6.6188,  -3.9214,  -1.3672,  -1.1971,  -2.4180,  -3.5008,  -6.0419,\n",
       "          -3.3473,  -2.7414,  -6.7248,  -7.2068,  -6.6318,  -5.7794,  -4.2051],\n",
       "        [ -6.1640,  -1.4335,  -6.4154,  -4.9631,  -7.2303,  -6.3189,  -7.3463,\n",
       "          -6.0118,  -0.1705,  -4.0925,  -5.8283,  -2.2526,  -2.2598,  -6.8990,\n",
       "          -6.3899,  -7.0412,  -5.9525,  -6.7695,  -6.0737,  -6.1203,  -3.6565],\n",
       "        [ -1.3351,  -5.4434,  -3.1339,  -3.3824,  -2.7309,  -1.9001,  -3.8751,\n",
       "          -4.0332,  -3.7895,  -2.8733,  -1.7634,  -4.4008,  -4.6925,  -2.5163,\n",
       "          -1.9892,  -2.5235,  -5.2672,  -3.7592,  -4.0213,  -4.7065,  -5.3104],\n",
       "        [ -3.0822,  -4.1629,  -4.6506,  -5.3674,  -4.0155,  -4.1522,  -5.0691,\n",
       "          -5.5221,  -2.6760,  -0.7693,  -4.4163,  -0.6207,  -2.3685,  -6.5710,\n",
       "          -3.8931,  -4.2760,  -6.1792,  -7.4816,  -5.7089,  -6.7065,  -4.6938],\n",
       "        [ -1.2514,  -8.2505,  -3.9778,  -7.8718,  -2.7755,  -3.3394,  -2.1019,\n",
       "          -4.0539,  -4.9137,  -4.7613,  -4.8684,  -8.7886,  -6.6932,  -2.5827,\n",
       "          -4.5581,  -0.2432,  -6.7858,  -6.1394,  -4.3653,  -4.3902,  -7.3967],\n",
       "        [ -3.4969,  -7.4191,  -5.1792,  -5.7111,  -2.7563,  -5.0251,  -0.9329,\n",
       "          -4.2409,  -4.6936,  -0.7468,  -6.0580,  -7.5257,  -6.0132,  -2.2503,\n",
       "          -4.0334,  -3.4820,  -5.9235,  -3.8592,  -3.0383,  -4.8321,  -7.0897],\n",
       "        [ -5.5593,  -6.6296,  -5.7281,  -6.9004,  -7.3029,  -4.1264,  -8.7440,\n",
       "         -10.0550,  -5.4029,  -7.9428,   2.3090,  -4.6221,  -7.7874,  -1.4712,\n",
       "          -4.1690,  -4.8393,  -9.0705, -10.2254,  -7.6996,  -6.7415,  -5.2044],\n",
       "        [ -4.0574,  -2.7782,  -5.2428,  -4.7875,  -4.4835,  -5.1229,  -3.5809,\n",
       "          -5.1035,  -0.2041,  -4.1341,  -4.5399,  -2.9075,  -1.8715,  -4.6702,\n",
       "          -3.3776,  -5.3639,  -4.7279,  -6.6345,  -3.4299,  -6.0215,  -3.7969],\n",
       "        [ -4.8708,  -6.9187,  -2.8117,  -7.5746,  -6.6203,  -1.6055,  -2.8495,\n",
       "          -3.6609,  -9.8838,  -4.6237,  -4.9764,  -9.1297,  -8.2860,  -5.3754,\n",
       "          -7.7621,  -3.9390,  -5.9830,  -3.4487,  -3.3838,   1.2819,  -5.2141]])"
      ]
     },
     "execution_count": 9,
     "metadata": {},
     "output_type": "execute_result"
    }
   ],
   "source": [
    "pd.options.display.float_format = '{:.4f}'.format\n",
    "state['output']"
   ]
  },
  {
   "cell_type": "code",
   "execution_count": 10,
   "id": "ad958783",
   "metadata": {
    "scrolled": false
   },
   "outputs": [
    {
     "data": {
      "text/plain": [
       "tensor([[ -3.7726,  -7.4724,  -5.0440,  -8.7445,  -4.9126,  -4.2459,   0.6980,\n",
       "          -2.2898,  -7.7043,  -6.3025,  -6.6479,  -4.1665,  -7.1329,  -3.7319,\n",
       "          -6.0430,  -6.5173,  -5.9288,  -3.5917,  -2.5218,  -3.9628,  -7.9968],\n",
       "        [ -2.5665,  -9.3700,  -4.4696,  -8.4053,  -1.7084,  -4.2994,  -1.8158,\n",
       "          -4.7763,  -7.8184,  -4.9969,  -5.2017,  -8.5668,  -8.0476,  -0.0544,\n",
       "          -4.2211,  -2.5769,  -6.6643,  -5.0671,  -2.7468,  -4.1032,  -7.9923],\n",
       "        [ -2.2956,  -6.3746,  -3.3364,  -3.0806,  -1.8104,  -2.3798,  -6.2395,\n",
       "          -7.0190,  -4.6010,  -1.6461,  -1.5925,  -5.0115,  -4.8347,  -4.3575,\n",
       "          -1.5438,  -2.4193,  -6.3191,  -6.7415,  -5.3482,  -6.5497,  -4.7697],\n",
       "        [ -4.6241,  -4.5345,  -6.2653,  -5.1019,  -4.7285,  -6.2845,  -5.2417,\n",
       "          -6.4026,  -1.1223,  -0.4654,  -5.5873,  -4.8044,  -2.2434,  -4.6160,\n",
       "          -3.9995,  -5.6098,  -5.9936,  -6.5704,  -4.5945,  -6.9150,  -5.5475],\n",
       "        [ -3.4054,  -4.6286,  -5.4234,  -5.7787,  -5.1261,  -4.8950,  -3.2629,\n",
       "          -0.7635,  -2.1653,  -3.2305,  -5.4825,  -3.6947,  -4.5841,  -2.9834,\n",
       "          -5.0150,  -4.7165,  -5.3879,  -3.2385,  -4.1614,  -4.5594,  -6.8860],\n",
       "        [ -4.8981,  -3.4515,  -6.8865,  -4.4874,  -5.8365,  -6.8839,  -5.4979,\n",
       "          -6.4473,   0.1415,  -2.6637,  -6.6258,  -5.4883,  -1.2303,  -5.9443,\n",
       "          -4.3525,  -6.5641,  -5.4779,  -6.7290,  -4.3851,  -7.6009,  -5.4973],\n",
       "        [ -5.3563,  -7.1991,  -6.0490,  -8.7699,  -6.5079,  -5.4533,  -1.5836,\n",
       "          -1.4515,  -8.0591,  -3.3271,  -8.2803,  -7.6813,  -7.0362,  -3.9786,\n",
       "          -7.0697,  -5.9564,  -5.8150,  -1.1947,  -3.1536,  -3.0623,  -8.9144],\n",
       "        [ -3.0446,  -4.7068,  -3.7239,  -5.5897,  -4.4361,  -2.8502,  -3.0388,\n",
       "           0.3935,  -4.3892,  -2.2488,  -5.2849,  -4.3674,  -4.9707,  -4.5414,\n",
       "          -5.2061,  -4.0582,  -5.0972,  -3.3481,  -4.1364,  -2.7960,  -5.9996],\n",
       "        [ -1.4445,  -7.6003,  -5.2195,  -4.8777,  -4.1844,  -3.7949,  -5.4426,\n",
       "          -4.0006,  -5.2114,  -0.2618,  -7.2838,  -7.2106,  -4.9485,  -7.4642,\n",
       "          -4.1030,  -3.0593,  -6.9527,  -3.3285,  -6.1652,  -7.5404,  -9.1267],\n",
       "        [ -1.4027,  -6.6969,  -3.7366,  -7.3036,  -3.9793,  -2.4962,  -0.5371,\n",
       "          -2.2807,  -4.7335,  -5.5072,  -4.5750,  -6.3397,  -5.9313,  -2.9569,\n",
       "          -4.5690,  -3.2363,  -5.6582,  -3.4205,  -3.1590,  -3.6248,  -7.2141],\n",
       "        [ -1.7263,  -5.7730,  -3.3372,  -5.5476,  -4.8273,  -1.7504,  -2.3712,\n",
       "          -1.2197,  -4.7841,  -4.6151,  -4.5303,  -6.0317,  -5.9233,  -4.0906,\n",
       "          -5.0591,  -3.2597,  -5.4972,  -2.1846,  -3.9890,  -2.6902,  -6.8057],\n",
       "        [ -2.3202,  -4.5874,  -3.2780,  -5.3044,  -4.2127,  -1.8100,  -6.4291,\n",
       "          -6.6188,  -3.9214,  -1.3672,  -1.1971,  -2.4180,  -3.5008,  -6.0419,\n",
       "          -3.3473,  -2.7414,  -6.7248,  -7.2068,  -6.6318,  -5.7794,  -4.2051],\n",
       "        [ -6.1640,  -1.4335,  -6.4154,  -4.9631,  -7.2303,  -6.3189,  -7.3463,\n",
       "          -6.0118,  -0.1705,  -4.0925,  -5.8283,  -2.2526,  -2.2598,  -6.8990,\n",
       "          -6.3899,  -7.0412,  -5.9525,  -6.7695,  -6.0737,  -6.1203,  -3.6565],\n",
       "        [ -1.3351,  -5.4434,  -3.1339,  -3.3824,  -2.7309,  -1.9001,  -3.8751,\n",
       "          -4.0332,  -3.7895,  -2.8733,  -1.7634,  -4.4008,  -4.6925,  -2.5163,\n",
       "          -1.9892,  -2.5235,  -5.2672,  -3.7592,  -4.0213,  -4.7065,  -5.3104],\n",
       "        [ -3.0822,  -4.1629,  -4.6506,  -5.3674,  -4.0155,  -4.1522,  -5.0691,\n",
       "          -5.5221,  -2.6760,  -0.7693,  -4.4163,  -0.6207,  -2.3685,  -6.5710,\n",
       "          -3.8931,  -4.2760,  -6.1792,  -7.4816,  -5.7089,  -6.7065,  -4.6938],\n",
       "        [ -1.2514,  -8.2505,  -3.9778,  -7.8718,  -2.7755,  -3.3394,  -2.1019,\n",
       "          -4.0539,  -4.9137,  -4.7613,  -4.8684,  -8.7886,  -6.6932,  -2.5827,\n",
       "          -4.5581,  -0.2432,  -6.7858,  -6.1394,  -4.3653,  -4.3902,  -7.3967],\n",
       "        [ -3.4969,  -7.4191,  -5.1792,  -5.7111,  -2.7563,  -5.0251,  -0.9329,\n",
       "          -4.2409,  -4.6936,  -0.7468,  -6.0580,  -7.5257,  -6.0132,  -2.2503,\n",
       "          -4.0334,  -3.4820,  -5.9235,  -3.8592,  -3.0383,  -4.8321,  -7.0897],\n",
       "        [ -5.5593,  -6.6296,  -5.7281,  -6.9004,  -7.3029,  -4.1264,  -8.7440,\n",
       "         -10.0550,  -5.4029,  -7.9428,   2.3090,  -4.6221,  -7.7874,  -1.4712,\n",
       "          -4.1690,  -4.8393,  -9.0705, -10.2254,  -7.6996,  -6.7415,  -5.2044],\n",
       "        [ -4.0574,  -2.7782,  -5.2428,  -4.7875,  -4.4835,  -5.1229,  -3.5809,\n",
       "          -5.1035,  -0.2041,  -4.1341,  -4.5399,  -2.9075,  -1.8715,  -4.6702,\n",
       "          -3.3776,  -5.3639,  -4.7279,  -6.6345,  -3.4299,  -6.0215,  -3.7969],\n",
       "        [ -4.8708,  -6.9187,  -2.8117,  -7.5746,  -6.6203,  -1.6055,  -2.8495,\n",
       "          -3.6609,  -9.8838,  -4.6237,  -4.9764,  -9.1297,  -8.2860,  -5.3754,\n",
       "          -7.7621,  -3.9390,  -5.9830,  -3.4487,  -3.3838,   1.2819,  -5.2141]])"
      ]
     },
     "execution_count": 10,
     "metadata": {},
     "output_type": "execute_result"
    }
   ],
   "source": [
    "state['output']"
   ]
  },
  {
   "cell_type": "code",
   "execution_count": 11,
   "id": "a0c6626c",
   "metadata": {},
   "outputs": [],
   "source": [
    "def softmax(x):\n",
    "    e_x = np.exp(x - np.max(x))\n",
    "    return e_x / e_x.sum()\n",
    " "
   ]
  },
  {
   "cell_type": "code",
   "execution_count": 12,
   "id": "82d723af",
   "metadata": {},
   "outputs": [],
   "source": [
    "# if __name__ == '__main__':\n",
    "#     startTime = time.time()\n",
    "#     print(\"Starting..\")\n",
    "\n",
    "#     lst = []\n",
    "#     p1, state = run_attribute_classifier(model_name='detail')\n",
    "#     lst.append(p1)\n",
    "#     print(\"[DONE] category time spent :{:.4f}\".format(time.time() - startTime))\n",
    "\n",
    "\n"
   ]
  },
  {
   "cell_type": "code",
   "execution_count": null,
   "id": "36920177",
   "metadata": {},
   "outputs": [],
   "source": [
    "raw_data = {'가죽':'../test_img/가디건.jpg',\n",
    "            '가죽':'../test_img/니트웨어.jpg',\n",
    "            '가죽':'../test_img/드레스.jpg',\n",
    "            '가죽':'../test_img/래깅스.jpg',\n",
    "            '가죽':'../test_img/베스트.jpg',\n",
    "            '가죽':'../test_img/브라탑.jpg',\n",
    "            '가죽':'../test_img/블라우스.jpg',\n",
    "            '가죽':'../test_img/셔츠.jpg',\n",
    "            '가죽':'../test_img/스커트.jpg',\n",
    "            '가죽':'../test_img/재킷.jpg',\n",
    "            '가죽':'../test_img/점퍼.jpg',\n",
    "            '가죽':'../test_img/점프수트.jpg',\n",
    "            '가죽':'../test_img/조거팬츠.jpg',\n",
    "            '가죽':'../test_img/짚업.jpg',\n",
    "            '가죽':'../test_img/청바지.jpg',\n",
    "            '가죽':'../test_img/코트.jpg',\n",
    "            '가죽':'../test_img/티셔츠.jpg',\n",
    "            '가죽':'../test_img/패딩.jpg',\n",
    "            '가죽':'../test_img/팬츠.jpg',\n",
    "            '가죽':'../test_img/후드티.jpg'\n",
    "           }\n",
    "\n",
    "category_label = {0:'재킷',\n",
    "                  1:'조거팬츠',\n",
    "                  2:'짚업',\n",
    "                  3:'스커트',\n",
    "                  4:'가디건',\n",
    "                  5:'점퍼',\n",
    "                  6:'티셔츠',\n",
    "                  7:'셔츠',\n",
    "                  8:'팬츠',\n",
    "                  9:'드레스',\n",
    "                  10:'패딩',\n",
    "                  11:'청바지',\n",
    "                  12:'점프수트',\n",
    "                  13:'니트웨어',\n",
    "                  14:'베스트',\n",
    "                  15:'코트',\n",
    "                  16:'브라탑',\n",
    "                  17:'블라우스',\n",
    "                  18:'탑',\n",
    "                  19:'후드티',\n",
    "                  20:'래깅스'\n",
    "                 }"
   ]
  },
  {
   "cell_type": "code",
   "execution_count": 13,
   "id": "7b2238b0",
   "metadata": {},
   "outputs": [
    {
     "name": "stdout",
     "output_type": "stream",
     "text": [
      "Starting..\n",
      "=> loading checkpoint '../checkpoint/kfashion_texture/model_texture_best.pth.tar'\n"
     ]
    },
    {
     "name": "stderr",
     "output_type": "stream",
     "text": [
      "Test:   0%|          | 0/1 [00:03<?, ?it/s]\n"
     ]
    },
    {
     "ename": "KeyError",
     "evalue": "Caught KeyError in DataLoader worker process 0.\nOriginal Traceback (most recent call last):\n  File \"C:\\Users\\deter\\anaconda3\\lib\\site-packages\\torch\\utils\\data\\_utils\\worker.py\", line 287, in _worker_loop\n    data = fetcher.fetch(index)\n  File \"C:\\Users\\deter\\anaconda3\\lib\\site-packages\\torch\\utils\\data\\_utils\\fetch.py\", line 49, in fetch\n    data = [self.dataset[idx] for idx in possibly_batched_index]\n  File \"C:\\Users\\deter\\anaconda3\\lib\\site-packages\\torch\\utils\\data\\_utils\\fetch.py\", line 49, in <listcomp>\n    data = [self.dataset[idx] for idx in possibly_batched_index]\n  File \"C:\\SSAFY_second\\ssafy_git\\S06P12B108\\attribute_test\\03.AI모델\\kfashoin_ai_model\\run\\utility\\load_data_c.py\", line 28, in __getitem__\n    return self.get(item)\n  File \"C:\\SSAFY_second\\ssafy_git\\S06P12B108\\attribute_test\\03.AI모델\\kfashoin_ai_model\\run\\utility\\load_data_c.py\", line 35, in get\n    label = [self.cat2idx[x] for x in item['labels']]\n  File \"C:\\SSAFY_second\\ssafy_git\\S06P12B108\\attribute_test\\03.AI모델\\kfashoin_ai_model\\run\\utility\\load_data_c.py\", line 35, in <listcomp>\n    label = [self.cat2idx[x] for x in item['labels']]\nKeyError: '가'\n",
     "output_type": "error",
     "traceback": [
      "\u001b[1;31m---------------------------------------------------------------------------\u001b[0m",
      "\u001b[1;31mKeyError\u001b[0m                                  Traceback (most recent call last)",
      "\u001b[1;32m~\\AppData\\Local\\Temp/ipykernel_3592/2885259769.py\u001b[0m in \u001b[0;36m<module>\u001b[1;34m\u001b[0m\n\u001b[0;32m      4\u001b[0m \u001b[1;33m\u001b[0m\u001b[0m\n\u001b[0;32m      5\u001b[0m     \u001b[0mlst\u001b[0m \u001b[1;33m=\u001b[0m \u001b[1;33m[\u001b[0m\u001b[1;33m]\u001b[0m\u001b[1;33m\u001b[0m\u001b[1;33m\u001b[0m\u001b[0m\n\u001b[1;32m----> 6\u001b[1;33m     \u001b[0mp1\u001b[0m\u001b[1;33m,\u001b[0m \u001b[0mstate\u001b[0m \u001b[1;33m=\u001b[0m \u001b[0mrun_attribute_classifier\u001b[0m\u001b[1;33m(\u001b[0m\u001b[0mmodel_name\u001b[0m\u001b[1;33m=\u001b[0m\u001b[1;34m'texture'\u001b[0m\u001b[1;33m)\u001b[0m\u001b[1;33m\u001b[0m\u001b[1;33m\u001b[0m\u001b[0m\n\u001b[0m\u001b[0;32m      7\u001b[0m     \u001b[0mlst\u001b[0m\u001b[1;33m.\u001b[0m\u001b[0mappend\u001b[0m\u001b[1;33m(\u001b[0m\u001b[0mp1\u001b[0m\u001b[1;33m)\u001b[0m\u001b[1;33m\u001b[0m\u001b[1;33m\u001b[0m\u001b[0m\n\u001b[0;32m      8\u001b[0m     \u001b[0mprint\u001b[0m\u001b[1;33m(\u001b[0m\u001b[1;34m\"[DONE] category time spent :{:.4f}\"\u001b[0m\u001b[1;33m.\u001b[0m\u001b[0mformat\u001b[0m\u001b[1;33m(\u001b[0m\u001b[0mtime\u001b[0m\u001b[1;33m.\u001b[0m\u001b[0mtime\u001b[0m\u001b[1;33m(\u001b[0m\u001b[1;33m)\u001b[0m \u001b[1;33m-\u001b[0m \u001b[0mstartTime\u001b[0m\u001b[1;33m)\u001b[0m\u001b[1;33m)\u001b[0m\u001b[1;33m\u001b[0m\u001b[1;33m\u001b[0m\u001b[0m\n",
      "\u001b[1;32m~\\AppData\\Local\\Temp/ipykernel_3592/814975589.py\u001b[0m in \u001b[0;36mrun_attribute_classifier\u001b[1;34m(model_name)\u001b[0m\n\u001b[0;32m     33\u001b[0m     \u001b[0mcriterion\u001b[0m \u001b[1;33m=\u001b[0m \u001b[0mnn\u001b[0m\u001b[1;33m.\u001b[0m\u001b[0mMultiLabelSoftMarginLoss\u001b[0m\u001b[1;33m(\u001b[0m\u001b[1;33m)\u001b[0m\u001b[1;33m\u001b[0m\u001b[1;33m\u001b[0m\u001b[0m\n\u001b[0;32m     34\u001b[0m     \u001b[0mengine\u001b[0m \u001b[1;33m=\u001b[0m \u001b[0mEngine\u001b[0m\u001b[1;33m(\u001b[0m\u001b[0mstate\u001b[0m\u001b[1;33m)\u001b[0m\u001b[1;33m\u001b[0m\u001b[1;33m\u001b[0m\u001b[0m\n\u001b[1;32m---> 35\u001b[1;33m     \u001b[0ma\u001b[0m \u001b[1;33m=\u001b[0m \u001b[0mengine\u001b[0m\u001b[1;33m.\u001b[0m\u001b[0mlearning\u001b[0m\u001b[1;33m(\u001b[0m\u001b[0mmodel\u001b[0m\u001b[1;33m,\u001b[0m \u001b[0mcriterion\u001b[0m\u001b[1;33m,\u001b[0m \u001b[0mtest_dataset\u001b[0m\u001b[1;33m,\u001b[0m \u001b[0mmodel_name\u001b[0m\u001b[1;33m)\u001b[0m\u001b[1;33m\u001b[0m\u001b[1;33m\u001b[0m\u001b[0m\n\u001b[0m\u001b[0;32m     36\u001b[0m     \u001b[1;32mreturn\u001b[0m \u001b[0ma\u001b[0m\u001b[1;33m,\u001b[0m \u001b[0mstate\u001b[0m\u001b[1;33m\u001b[0m\u001b[1;33m\u001b[0m\u001b[0m\n",
      "\u001b[1;32mC:\\SSAFY_second\\ssafy_git\\S06P12B108\\attribute_test\\03.AI모델\\kfashoin_ai_model\\run\\utility\\engine_test_att.py\u001b[0m in \u001b[0;36mlearning\u001b[1;34m(self, model, criterion, val_dataset, model_name)\u001b[0m\n\u001b[0;32m    160\u001b[0m \u001b[1;33m\u001b[0m\u001b[0m\n\u001b[0;32m    161\u001b[0m         \u001b[1;32mif\u001b[0m \u001b[0mself\u001b[0m\u001b[1;33m.\u001b[0m\u001b[0mstate\u001b[0m\u001b[1;33m[\u001b[0m\u001b[1;34m'evaluate'\u001b[0m\u001b[1;33m]\u001b[0m\u001b[1;33m:\u001b[0m\u001b[1;33m\u001b[0m\u001b[1;33m\u001b[0m\u001b[0m\n\u001b[1;32m--> 162\u001b[1;33m             \u001b[0ma\u001b[0m \u001b[1;33m=\u001b[0m \u001b[0mself\u001b[0m\u001b[1;33m.\u001b[0m\u001b[0mvalidate\u001b[0m\u001b[1;33m(\u001b[0m\u001b[0mval_loader\u001b[0m\u001b[1;33m,\u001b[0m \u001b[0mmodel\u001b[0m\u001b[1;33m,\u001b[0m \u001b[0mcriterion\u001b[0m\u001b[1;33m,\u001b[0m \u001b[0mmodel_name\u001b[0m\u001b[1;33m)\u001b[0m\u001b[1;33m\u001b[0m\u001b[1;33m\u001b[0m\u001b[0m\n\u001b[0m\u001b[0;32m    163\u001b[0m             \u001b[0mprint\u001b[0m\u001b[1;33m(\u001b[0m\u001b[1;34m'Top-3 recall:'\u001b[0m\u001b[1;33m,\u001b[0m \u001b[0ma\u001b[0m\u001b[1;33m)\u001b[0m\u001b[1;33m\u001b[0m\u001b[1;33m\u001b[0m\u001b[0m\n\u001b[0;32m    164\u001b[0m             \u001b[1;32mreturn\u001b[0m \u001b[0ma\u001b[0m\u001b[1;33m\u001b[0m\u001b[1;33m\u001b[0m\u001b[0m\n",
      "\u001b[1;32mC:\\SSAFY_second\\ssafy_git\\S06P12B108\\attribute_test\\03.AI모델\\kfashoin_ai_model\\run\\utility\\engine_test_att.py\u001b[0m in \u001b[0;36mvalidate\u001b[1;34m(self, data_loader, model, criterion, model_name)\u001b[0m\n\u001b[0;32m    172\u001b[0m             \u001b[0mdata_loader\u001b[0m \u001b[1;33m=\u001b[0m \u001b[0mtqdm\u001b[0m\u001b[1;33m(\u001b[0m\u001b[0mdata_loader\u001b[0m\u001b[1;33m,\u001b[0m \u001b[0mdesc\u001b[0m\u001b[1;33m=\u001b[0m\u001b[1;34m'Test'\u001b[0m\u001b[1;33m)\u001b[0m\u001b[1;33m\u001b[0m\u001b[1;33m\u001b[0m\u001b[0m\n\u001b[0;32m    173\u001b[0m \u001b[1;33m\u001b[0m\u001b[0m\n\u001b[1;32m--> 174\u001b[1;33m         \u001b[1;32mfor\u001b[0m \u001b[0mi\u001b[0m\u001b[1;33m,\u001b[0m \u001b[1;33m(\u001b[0m\u001b[0minput\u001b[0m\u001b[1;33m,\u001b[0m \u001b[0mtarget\u001b[0m\u001b[1;33m)\u001b[0m \u001b[1;32min\u001b[0m \u001b[0menumerate\u001b[0m\u001b[1;33m(\u001b[0m\u001b[0mdata_loader\u001b[0m\u001b[1;33m)\u001b[0m\u001b[1;33m:\u001b[0m\u001b[1;33m\u001b[0m\u001b[1;33m\u001b[0m\u001b[0m\n\u001b[0m\u001b[0;32m    175\u001b[0m             \u001b[1;31m# measure data loading time\u001b[0m\u001b[1;33m\u001b[0m\u001b[1;33m\u001b[0m\u001b[0m\n\u001b[0;32m    176\u001b[0m             \u001b[0mself\u001b[0m\u001b[1;33m.\u001b[0m\u001b[0mstate\u001b[0m\u001b[1;33m[\u001b[0m\u001b[1;34m'iteration'\u001b[0m\u001b[1;33m]\u001b[0m \u001b[1;33m=\u001b[0m \u001b[0mi\u001b[0m\u001b[1;33m\u001b[0m\u001b[1;33m\u001b[0m\u001b[0m\n",
      "\u001b[1;32m~\\anaconda3\\lib\\site-packages\\tqdm\\std.py\u001b[0m in \u001b[0;36m__iter__\u001b[1;34m(self)\u001b[0m\n\u001b[0;32m   1178\u001b[0m \u001b[1;33m\u001b[0m\u001b[0m\n\u001b[0;32m   1179\u001b[0m         \u001b[1;32mtry\u001b[0m\u001b[1;33m:\u001b[0m\u001b[1;33m\u001b[0m\u001b[1;33m\u001b[0m\u001b[0m\n\u001b[1;32m-> 1180\u001b[1;33m             \u001b[1;32mfor\u001b[0m \u001b[0mobj\u001b[0m \u001b[1;32min\u001b[0m \u001b[0miterable\u001b[0m\u001b[1;33m:\u001b[0m\u001b[1;33m\u001b[0m\u001b[1;33m\u001b[0m\u001b[0m\n\u001b[0m\u001b[0;32m   1181\u001b[0m                 \u001b[1;32myield\u001b[0m \u001b[0mobj\u001b[0m\u001b[1;33m\u001b[0m\u001b[1;33m\u001b[0m\u001b[0m\n\u001b[0;32m   1182\u001b[0m                 \u001b[1;31m# Update and possibly print the progressbar.\u001b[0m\u001b[1;33m\u001b[0m\u001b[1;33m\u001b[0m\u001b[0m\n",
      "\u001b[1;32m~\\anaconda3\\lib\\site-packages\\torch\\utils\\data\\dataloader.py\u001b[0m in \u001b[0;36m__next__\u001b[1;34m(self)\u001b[0m\n\u001b[0;32m    519\u001b[0m             \u001b[1;32mif\u001b[0m \u001b[0mself\u001b[0m\u001b[1;33m.\u001b[0m\u001b[0m_sampler_iter\u001b[0m \u001b[1;32mis\u001b[0m \u001b[1;32mNone\u001b[0m\u001b[1;33m:\u001b[0m\u001b[1;33m\u001b[0m\u001b[1;33m\u001b[0m\u001b[0m\n\u001b[0;32m    520\u001b[0m                 \u001b[0mself\u001b[0m\u001b[1;33m.\u001b[0m\u001b[0m_reset\u001b[0m\u001b[1;33m(\u001b[0m\u001b[1;33m)\u001b[0m\u001b[1;33m\u001b[0m\u001b[1;33m\u001b[0m\u001b[0m\n\u001b[1;32m--> 521\u001b[1;33m             \u001b[0mdata\u001b[0m \u001b[1;33m=\u001b[0m \u001b[0mself\u001b[0m\u001b[1;33m.\u001b[0m\u001b[0m_next_data\u001b[0m\u001b[1;33m(\u001b[0m\u001b[1;33m)\u001b[0m\u001b[1;33m\u001b[0m\u001b[1;33m\u001b[0m\u001b[0m\n\u001b[0m\u001b[0;32m    522\u001b[0m             \u001b[0mself\u001b[0m\u001b[1;33m.\u001b[0m\u001b[0m_num_yielded\u001b[0m \u001b[1;33m+=\u001b[0m \u001b[1;36m1\u001b[0m\u001b[1;33m\u001b[0m\u001b[1;33m\u001b[0m\u001b[0m\n\u001b[0;32m    523\u001b[0m             \u001b[1;32mif\u001b[0m \u001b[0mself\u001b[0m\u001b[1;33m.\u001b[0m\u001b[0m_dataset_kind\u001b[0m \u001b[1;33m==\u001b[0m \u001b[0m_DatasetKind\u001b[0m\u001b[1;33m.\u001b[0m\u001b[0mIterable\u001b[0m \u001b[1;32mand\u001b[0m\u001b[0;31m \u001b[0m\u001b[0;31m\\\u001b[0m\u001b[1;33m\u001b[0m\u001b[1;33m\u001b[0m\u001b[0m\n",
      "\u001b[1;32m~\\anaconda3\\lib\\site-packages\\torch\\utils\\data\\dataloader.py\u001b[0m in \u001b[0;36m_next_data\u001b[1;34m(self)\u001b[0m\n\u001b[0;32m   1201\u001b[0m             \u001b[1;32melse\u001b[0m\u001b[1;33m:\u001b[0m\u001b[1;33m\u001b[0m\u001b[1;33m\u001b[0m\u001b[0m\n\u001b[0;32m   1202\u001b[0m                 \u001b[1;32mdel\u001b[0m \u001b[0mself\u001b[0m\u001b[1;33m.\u001b[0m\u001b[0m_task_info\u001b[0m\u001b[1;33m[\u001b[0m\u001b[0midx\u001b[0m\u001b[1;33m]\u001b[0m\u001b[1;33m\u001b[0m\u001b[1;33m\u001b[0m\u001b[0m\n\u001b[1;32m-> 1203\u001b[1;33m                 \u001b[1;32mreturn\u001b[0m \u001b[0mself\u001b[0m\u001b[1;33m.\u001b[0m\u001b[0m_process_data\u001b[0m\u001b[1;33m(\u001b[0m\u001b[0mdata\u001b[0m\u001b[1;33m)\u001b[0m\u001b[1;33m\u001b[0m\u001b[1;33m\u001b[0m\u001b[0m\n\u001b[0m\u001b[0;32m   1204\u001b[0m \u001b[1;33m\u001b[0m\u001b[0m\n\u001b[0;32m   1205\u001b[0m     \u001b[1;32mdef\u001b[0m \u001b[0m_try_put_index\u001b[0m\u001b[1;33m(\u001b[0m\u001b[0mself\u001b[0m\u001b[1;33m)\u001b[0m\u001b[1;33m:\u001b[0m\u001b[1;33m\u001b[0m\u001b[1;33m\u001b[0m\u001b[0m\n",
      "\u001b[1;32m~\\anaconda3\\lib\\site-packages\\torch\\utils\\data\\dataloader.py\u001b[0m in \u001b[0;36m_process_data\u001b[1;34m(self, data)\u001b[0m\n\u001b[0;32m   1227\u001b[0m         \u001b[0mself\u001b[0m\u001b[1;33m.\u001b[0m\u001b[0m_try_put_index\u001b[0m\u001b[1;33m(\u001b[0m\u001b[1;33m)\u001b[0m\u001b[1;33m\u001b[0m\u001b[1;33m\u001b[0m\u001b[0m\n\u001b[0;32m   1228\u001b[0m         \u001b[1;32mif\u001b[0m \u001b[0misinstance\u001b[0m\u001b[1;33m(\u001b[0m\u001b[0mdata\u001b[0m\u001b[1;33m,\u001b[0m \u001b[0mExceptionWrapper\u001b[0m\u001b[1;33m)\u001b[0m\u001b[1;33m:\u001b[0m\u001b[1;33m\u001b[0m\u001b[1;33m\u001b[0m\u001b[0m\n\u001b[1;32m-> 1229\u001b[1;33m             \u001b[0mdata\u001b[0m\u001b[1;33m.\u001b[0m\u001b[0mreraise\u001b[0m\u001b[1;33m(\u001b[0m\u001b[1;33m)\u001b[0m\u001b[1;33m\u001b[0m\u001b[1;33m\u001b[0m\u001b[0m\n\u001b[0m\u001b[0;32m   1230\u001b[0m         \u001b[1;32mreturn\u001b[0m \u001b[0mdata\u001b[0m\u001b[1;33m\u001b[0m\u001b[1;33m\u001b[0m\u001b[0m\n\u001b[0;32m   1231\u001b[0m \u001b[1;33m\u001b[0m\u001b[0m\n",
      "\u001b[1;32m~\\anaconda3\\lib\\site-packages\\torch\\_utils.py\u001b[0m in \u001b[0;36mreraise\u001b[1;34m(self)\u001b[0m\n\u001b[0;32m    432\u001b[0m             \u001b[1;31m# instantiate since we don't know how to\u001b[0m\u001b[1;33m\u001b[0m\u001b[1;33m\u001b[0m\u001b[0m\n\u001b[0;32m    433\u001b[0m             \u001b[1;32mraise\u001b[0m \u001b[0mRuntimeError\u001b[0m\u001b[1;33m(\u001b[0m\u001b[0mmsg\u001b[0m\u001b[1;33m)\u001b[0m \u001b[1;32mfrom\u001b[0m \u001b[1;32mNone\u001b[0m\u001b[1;33m\u001b[0m\u001b[1;33m\u001b[0m\u001b[0m\n\u001b[1;32m--> 434\u001b[1;33m         \u001b[1;32mraise\u001b[0m \u001b[0mexception\u001b[0m\u001b[1;33m\u001b[0m\u001b[1;33m\u001b[0m\u001b[0m\n\u001b[0m\u001b[0;32m    435\u001b[0m \u001b[1;33m\u001b[0m\u001b[0m\n\u001b[0;32m    436\u001b[0m \u001b[1;33m\u001b[0m\u001b[0m\n",
      "\u001b[1;31mKeyError\u001b[0m: Caught KeyError in DataLoader worker process 0.\nOriginal Traceback (most recent call last):\n  File \"C:\\Users\\deter\\anaconda3\\lib\\site-packages\\torch\\utils\\data\\_utils\\worker.py\", line 287, in _worker_loop\n    data = fetcher.fetch(index)\n  File \"C:\\Users\\deter\\anaconda3\\lib\\site-packages\\torch\\utils\\data\\_utils\\fetch.py\", line 49, in fetch\n    data = [self.dataset[idx] for idx in possibly_batched_index]\n  File \"C:\\Users\\deter\\anaconda3\\lib\\site-packages\\torch\\utils\\data\\_utils\\fetch.py\", line 49, in <listcomp>\n    data = [self.dataset[idx] for idx in possibly_batched_index]\n  File \"C:\\SSAFY_second\\ssafy_git\\S06P12B108\\attribute_test\\03.AI모델\\kfashoin_ai_model\\run\\utility\\load_data_c.py\", line 28, in __getitem__\n    return self.get(item)\n  File \"C:\\SSAFY_second\\ssafy_git\\S06P12B108\\attribute_test\\03.AI모델\\kfashoin_ai_model\\run\\utility\\load_data_c.py\", line 35, in get\n    label = [self.cat2idx[x] for x in item['labels']]\n  File \"C:\\SSAFY_second\\ssafy_git\\S06P12B108\\attribute_test\\03.AI모델\\kfashoin_ai_model\\run\\utility\\load_data_c.py\", line 35, in <listcomp>\n    label = [self.cat2idx[x] for x in item['labels']]\nKeyError: '가'\n"
     ]
    }
   ],
   "source": []
  },
  {
   "cell_type": "code",
   "execution_count": null,
   "id": "6a9403a0",
   "metadata": {},
   "outputs": [],
   "source": [
    "# if __name__ == '__main__':\n",
    "#     startTime = time.time()\n",
    "#     print(\"Starting..\")\n",
    "\n",
    "#     lst = []\n",
    "#     p1, state = run_attribute_classifier(model_name='print')\n",
    "#     lst.append(p1)\n",
    "#     print(\"[DONE] category time spent :{:.4f}\".format(time.time() - startTime))\n"
   ]
  }
 ],
 "metadata": {
  "kernelspec": {
   "display_name": "Python 3 (ipykernel)",
   "language": "python",
   "name": "python3"
  },
  "language_info": {
   "codemirror_mode": {
    "name": "ipython",
    "version": 3
   },
   "file_extension": ".py",
   "mimetype": "text/x-python",
   "name": "python",
   "nbconvert_exporter": "python",
   "pygments_lexer": "ipython3",
   "version": "3.9.7"
  }
 },
 "nbformat": 4,
 "nbformat_minor": 5
}
