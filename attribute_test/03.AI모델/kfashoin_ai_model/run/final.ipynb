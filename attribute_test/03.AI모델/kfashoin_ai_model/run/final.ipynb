{
 "cells": [
  {
   "cell_type": "code",
   "execution_count": 1,
   "id": "515d22a6",
   "metadata": {},
   "outputs": [],
   "source": [
    "import numpy as np\n",
    "import pandas as pd\n",
    "from PIL import Image\n",
    "\n",
    "import json\n",
    "import easydict\n",
    "from collections import OrderedDict\n",
    "\n",
    "# import argparse\n",
    "from utility.load_data_c import *\n",
    "from utility.resnest import *\n",
    "from utility.engine_test_att import *"
   ]
  },
  {
   "cell_type": "code",
   "execution_count": 2,
   "id": "eabb353c",
   "metadata": {},
   "outputs": [
    {
     "data": {
      "text/plain": [
       "False"
      ]
     },
     "execution_count": 2,
     "metadata": {},
     "output_type": "execute_result"
    }
   ],
   "source": [
    "torch.cuda.is_available()"
   ]
  },
  {
   "cell_type": "code",
   "execution_count": 3,
   "id": "41a63740",
   "metadata": {},
   "outputs": [],
   "source": [
    "raw_data = {'가디건':'../test_img/가디건.jpg',\n",
    "            '니트웨어':'../test_img/니트웨어.jpg',\n",
    "            '드레스':'../test_img/드레스.jpg',\n",
    "            '래깅스':'../test_img/래깅스.jpg',\n",
    "            '베스트':'../test_img/베스트.jpg',\n",
    "            '브라탑':'../test_img/브라탑.jpg',\n",
    "            '블라우스':'../test_img/블라우스.jpg',\n",
    "            '셔츠':'../test_img/셔츠.jpg',\n",
    "            '스커트':'../test_img/스커트.jpg',\n",
    "            '재킷':'../test_img/재킷.jpg',\n",
    "            '점퍼':'../test_img/점퍼.jpg',\n",
    "            '점프수트':'../test_img/점프수트.jpg',\n",
    "            '조거팬츠':'../test_img/조거팬츠.jpg',\n",
    "            '짚업':'../test_img/짚업.jpg',\n",
    "            '청바지':'../test_img/청바지.jpg',\n",
    "            '코트':'../test_img/코트.jpg',\n",
    "            '티셔츠':'../test_img/티셔츠.jpg',\n",
    "            '패딩':'../test_img/패딩.jpg',\n",
    "            '팬츠':'../test_img/팬츠.jpg',\n",
    "            '후드티':'../test_img/후드티.jpg'\n",
    "           }\n",
    "\n",
    "category_label = {0:'재킷',\n",
    "                  1:'조거팬츠',\n",
    "                  2:'짚업',\n",
    "                  3:'스커트',\n",
    "                  4:'가디건',\n",
    "                  5:'점퍼',\n",
    "                  6:'티셔츠',\n",
    "                  7:'셔츠',\n",
    "                  8:'팬츠',\n",
    "                  9:'드레스',\n",
    "                  10:'패딩',\n",
    "                  11:'청바지',\n",
    "                  12:'점프수트',\n",
    "                  13:'니트웨어',\n",
    "                  14:'베스트',\n",
    "                  15:'코트',\n",
    "                  16:'브라탑',\n",
    "                  17:'블라우스',\n",
    "                  18:'탑',\n",
    "                  19:'후드티',\n",
    "                  20:'래깅스'\n",
    "                 }\n",
    "\n",
    "# category_label = {0:'가디건',\n",
    "#                   1:'니트웨어',\n",
    "#                   2:'드레스',\n",
    "#                   3:'래깅스',\n",
    "#                   4:'베스트',\n",
    "#                   5:'브라탑',\n",
    "#                   6:'블라우스',\n",
    "#                   7:'셔츠',\n",
    "#                   8:'스커트',\n",
    "#                   9:'재킷',\n",
    "#                   10:'점퍼',\n",
    "#                   11:'점프수트',\n",
    "#                   12:'조거팬츠',\n",
    "#                   13:'짚업',\n",
    "#                   14:'청바지',\n",
    "#                   15:'코트',\n",
    "#                   16:'탑',\n",
    "#                   17:'티셔츠',\n",
    "#                   18:'패딩',\n",
    "#                   19:'팬츠',\n",
    "#                   20:'후드티'\n",
    "#                  }\n",
    "\n",
    "parameter_state = {'attribute':'category',\n",
    "                   'image_size':224\n",
    "                  }\n",
    "\n",
    "phase = '가디건'"
   ]
  },
  {
   "cell_type": "code",
   "execution_count": null,
   "id": "a1246c46",
   "metadata": {},
   "outputs": [],
   "source": []
  },
  {
   "cell_type": "code",
   "execution_count": 4,
   "id": "7f8e1140",
   "metadata": {},
   "outputs": [],
   "source": [
    "\n",
    "\n",
    "def run_attribute_classifier(model_name ='category'):\n",
    "    global args, best_prec1, use_gpu\n",
    "#     args = parser.parse_args()\n",
    "    args = easydict.EasyDict({\n",
    "        'image_size':224, # 224\n",
    "        'workers':-1,\n",
    "        'device_ids':[0,1,2,3],\n",
    "        'batch_size':20, # 128\n",
    "        'evaluate':True\n",
    "    })\n",
    "    \n",
    "    use_gpu = torch.cuda.is_available()\n",
    "    state = {'batch_size': args.batch_size, 'image_size': args.image_size,\n",
    "             'evaluate': args.evaluate}\n",
    "\n",
    "    if model_name == 'category':\n",
    "        num_classes = 21\n",
    "        state['resume'] = '../checkpoint/kfashion_category/model_category_best.pth.tar'\n",
    "    elif model_name == 'detail':\n",
    "        num_classes = 40\n",
    "        state['resume'] = '../checkpoint/kfashion_detail/model_detail_best.pth.tar'\n",
    "    elif model_name == 'texture':\n",
    "        num_classes = 27\n",
    "        state['resume'] = '../checkpoint/kfashion_texture/model_texture_best.pth.tar'\n",
    "    elif model_name == 'print':\n",
    "        num_classes = 21\n",
    "        state['resume'] = '../checkpoint/kfashion_print/model_print_best.pth.tar'\n",
    "\n",
    "    test_dataset = load_data(attribute = model_name, phase='test', num_classes = num_classes)\n",
    "\n",
    "    model = resnest50d(pretrained=False, nc=num_classes)\n",
    "    state['evaluate'] = True\n",
    "    criterion = nn.MultiLabelSoftMarginLoss()\n",
    "    engine = Engine(state)\n",
    "    a = engine.learning(model, criterion, test_dataset, model_name)\n",
    "    return a, state"
   ]
  },
  {
   "cell_type": "code",
   "execution_count": 5,
   "id": "b170589a",
   "metadata": {
    "scrolled": true
   },
   "outputs": [
    {
     "name": "stdout",
     "output_type": "stream",
     "text": [
      "Starting..\n"
     ]
    },
    {
     "name": "stderr",
     "output_type": "stream",
     "text": [
      "C:\\Users\\deter\\anaconda3\\lib\\site-packages\\torch\\utils\\data\\dataloader.py:478: UserWarning: This DataLoader will create 25 worker processes in total. Our suggested max number of worker in current system is 12 (`cpuset` is not taken into account), which is smaller than what this DataLoader is going to create. Please be aware that excessive worker creation might get DataLoader running slow or even freeze, lower the worker number to avoid potential slowness/freeze if necessary.\n",
      "  warnings.warn(_create_warning_msg(\n"
     ]
    },
    {
     "name": "stdout",
     "output_type": "stream",
     "text": [
      "=> loading checkpoint '../checkpoint/kfashion_category/model_category_best.pth.tar'\n"
     ]
    },
    {
     "name": "stderr",
     "output_type": "stream",
     "text": [
      "Test:   0%|                                                                                   | 0/2739 [00:29<?, ?it/s]\n"
     ]
    },
    {
     "ename": "FileNotFoundError",
     "evalue": "Caught FileNotFoundError in DataLoader worker process 0.\nOriginal Traceback (most recent call last):\n  File \"C:\\Users\\deter\\anaconda3\\lib\\site-packages\\torch\\utils\\data\\_utils\\worker.py\", line 287, in _worker_loop\n    data = fetcher.fetch(index)\n  File \"C:\\Users\\deter\\anaconda3\\lib\\site-packages\\torch\\utils\\data\\_utils\\fetch.py\", line 49, in fetch\n    data = [self.dataset[idx] for idx in possibly_batched_index]\n  File \"C:\\Users\\deter\\anaconda3\\lib\\site-packages\\torch\\utils\\data\\_utils\\fetch.py\", line 49, in <listcomp>\n    data = [self.dataset[idx] for idx in possibly_batched_index]\n  File \"C:\\SSAFY_second\\ssafy_git\\S06P12B108\\attribute_test\\03.AI모델\\kfashoin_ai_model\\run\\utility\\load_data_c.py\", line 25, in __getitem__\n    return self.get(item)\n  File \"C:\\SSAFY_second\\ssafy_git\\S06P12B108\\attribute_test\\03.AI모델\\kfashoin_ai_model\\run\\utility\\load_data_c.py\", line 34, in get\n    img = Image.open(filename).convert('RGB')\n  File \"C:\\Users\\deter\\anaconda3\\lib\\site-packages\\PIL\\Image.py\", line 2975, in open\n    fp = builtins.open(filename, \"rb\")\nFileNotFoundError: [Errno 2] No such file or directory: '../img/K-fashion_HardSegImgs_aim/48076/48076_하의.jpg'\n",
     "output_type": "error",
     "traceback": [
      "\u001b[1;31m---------------------------------------------------------------------------\u001b[0m",
      "\u001b[1;31mFileNotFoundError\u001b[0m                         Traceback (most recent call last)",
      "\u001b[1;32m~\\AppData\\Local\\Temp/ipykernel_3688/57707854.py\u001b[0m in \u001b[0;36m<module>\u001b[1;34m\u001b[0m\n\u001b[0;32m      4\u001b[0m \u001b[1;33m\u001b[0m\u001b[0m\n\u001b[0;32m      5\u001b[0m     \u001b[0mlst\u001b[0m \u001b[1;33m=\u001b[0m \u001b[1;33m[\u001b[0m\u001b[1;33m]\u001b[0m\u001b[1;33m\u001b[0m\u001b[1;33m\u001b[0m\u001b[0m\n\u001b[1;32m----> 6\u001b[1;33m     \u001b[0mp1\u001b[0m\u001b[1;33m,\u001b[0m \u001b[0mstate\u001b[0m \u001b[1;33m=\u001b[0m \u001b[0mrun_attribute_classifier\u001b[0m\u001b[1;33m(\u001b[0m\u001b[0mmodel_name\u001b[0m\u001b[1;33m=\u001b[0m\u001b[1;34m'category'\u001b[0m\u001b[1;33m)\u001b[0m\u001b[1;33m\u001b[0m\u001b[1;33m\u001b[0m\u001b[0m\n\u001b[0m\u001b[0;32m      7\u001b[0m     \u001b[0mlst\u001b[0m\u001b[1;33m.\u001b[0m\u001b[0mappend\u001b[0m\u001b[1;33m(\u001b[0m\u001b[0mp1\u001b[0m\u001b[1;33m)\u001b[0m\u001b[1;33m\u001b[0m\u001b[1;33m\u001b[0m\u001b[0m\n\u001b[0;32m      8\u001b[0m     \u001b[0mprint\u001b[0m\u001b[1;33m(\u001b[0m\u001b[1;34m\"[DONE] category time spent :{:.4f}\"\u001b[0m\u001b[1;33m.\u001b[0m\u001b[0mformat\u001b[0m\u001b[1;33m(\u001b[0m\u001b[0mtime\u001b[0m\u001b[1;33m.\u001b[0m\u001b[0mtime\u001b[0m\u001b[1;33m(\u001b[0m\u001b[1;33m)\u001b[0m \u001b[1;33m-\u001b[0m \u001b[0mstartTime\u001b[0m\u001b[1;33m)\u001b[0m\u001b[1;33m)\u001b[0m\u001b[1;33m\u001b[0m\u001b[1;33m\u001b[0m\u001b[0m\n",
      "\u001b[1;32m~\\AppData\\Local\\Temp/ipykernel_3688/814975589.py\u001b[0m in \u001b[0;36mrun_attribute_classifier\u001b[1;34m(model_name)\u001b[0m\n\u001b[0;32m     33\u001b[0m     \u001b[0mcriterion\u001b[0m \u001b[1;33m=\u001b[0m \u001b[0mnn\u001b[0m\u001b[1;33m.\u001b[0m\u001b[0mMultiLabelSoftMarginLoss\u001b[0m\u001b[1;33m(\u001b[0m\u001b[1;33m)\u001b[0m\u001b[1;33m\u001b[0m\u001b[1;33m\u001b[0m\u001b[0m\n\u001b[0;32m     34\u001b[0m     \u001b[0mengine\u001b[0m \u001b[1;33m=\u001b[0m \u001b[0mEngine\u001b[0m\u001b[1;33m(\u001b[0m\u001b[0mstate\u001b[0m\u001b[1;33m)\u001b[0m\u001b[1;33m\u001b[0m\u001b[1;33m\u001b[0m\u001b[0m\n\u001b[1;32m---> 35\u001b[1;33m     \u001b[0ma\u001b[0m \u001b[1;33m=\u001b[0m \u001b[0mengine\u001b[0m\u001b[1;33m.\u001b[0m\u001b[0mlearning\u001b[0m\u001b[1;33m(\u001b[0m\u001b[0mmodel\u001b[0m\u001b[1;33m,\u001b[0m \u001b[0mcriterion\u001b[0m\u001b[1;33m,\u001b[0m \u001b[0mtest_dataset\u001b[0m\u001b[1;33m,\u001b[0m \u001b[0mmodel_name\u001b[0m\u001b[1;33m)\u001b[0m\u001b[1;33m\u001b[0m\u001b[1;33m\u001b[0m\u001b[0m\n\u001b[0m\u001b[0;32m     36\u001b[0m     \u001b[1;32mreturn\u001b[0m \u001b[0ma\u001b[0m\u001b[1;33m,\u001b[0m \u001b[0mstate\u001b[0m\u001b[1;33m\u001b[0m\u001b[1;33m\u001b[0m\u001b[0m\n",
      "\u001b[1;32mC:\\SSAFY_second\\ssafy_git\\S06P12B108\\attribute_test\\03.AI모델\\kfashoin_ai_model\\run\\utility\\engine_test_att.py\u001b[0m in \u001b[0;36mlearning\u001b[1;34m(self, model, criterion, val_dataset, model_name)\u001b[0m\n\u001b[0;32m    160\u001b[0m \u001b[1;33m\u001b[0m\u001b[0m\n\u001b[0;32m    161\u001b[0m         \u001b[1;32mif\u001b[0m \u001b[0mself\u001b[0m\u001b[1;33m.\u001b[0m\u001b[0mstate\u001b[0m\u001b[1;33m[\u001b[0m\u001b[1;34m'evaluate'\u001b[0m\u001b[1;33m]\u001b[0m\u001b[1;33m:\u001b[0m\u001b[1;33m\u001b[0m\u001b[1;33m\u001b[0m\u001b[0m\n\u001b[1;32m--> 162\u001b[1;33m             \u001b[0ma\u001b[0m \u001b[1;33m=\u001b[0m \u001b[0mself\u001b[0m\u001b[1;33m.\u001b[0m\u001b[0mvalidate\u001b[0m\u001b[1;33m(\u001b[0m\u001b[0mval_loader\u001b[0m\u001b[1;33m,\u001b[0m \u001b[0mmodel\u001b[0m\u001b[1;33m,\u001b[0m \u001b[0mcriterion\u001b[0m\u001b[1;33m,\u001b[0m \u001b[0mmodel_name\u001b[0m\u001b[1;33m)\u001b[0m\u001b[1;33m\u001b[0m\u001b[1;33m\u001b[0m\u001b[0m\n\u001b[0m\u001b[0;32m    163\u001b[0m             \u001b[0mprint\u001b[0m\u001b[1;33m(\u001b[0m\u001b[1;34m'Top-3 recall:'\u001b[0m\u001b[1;33m,\u001b[0m \u001b[0ma\u001b[0m\u001b[1;33m)\u001b[0m\u001b[1;33m\u001b[0m\u001b[1;33m\u001b[0m\u001b[0m\n\u001b[0;32m    164\u001b[0m             \u001b[1;32mreturn\u001b[0m \u001b[0ma\u001b[0m\u001b[1;33m\u001b[0m\u001b[1;33m\u001b[0m\u001b[0m\n",
      "\u001b[1;32mC:\\SSAFY_second\\ssafy_git\\S06P12B108\\attribute_test\\03.AI모델\\kfashoin_ai_model\\run\\utility\\engine_test_att.py\u001b[0m in \u001b[0;36mvalidate\u001b[1;34m(self, data_loader, model, criterion, model_name)\u001b[0m\n\u001b[0;32m    172\u001b[0m             \u001b[0mdata_loader\u001b[0m \u001b[1;33m=\u001b[0m \u001b[0mtqdm\u001b[0m\u001b[1;33m(\u001b[0m\u001b[0mdata_loader\u001b[0m\u001b[1;33m,\u001b[0m \u001b[0mdesc\u001b[0m\u001b[1;33m=\u001b[0m\u001b[1;34m'Test'\u001b[0m\u001b[1;33m)\u001b[0m\u001b[1;33m\u001b[0m\u001b[1;33m\u001b[0m\u001b[0m\n\u001b[0;32m    173\u001b[0m \u001b[1;33m\u001b[0m\u001b[0m\n\u001b[1;32m--> 174\u001b[1;33m         \u001b[1;32mfor\u001b[0m \u001b[0mi\u001b[0m\u001b[1;33m,\u001b[0m \u001b[1;33m(\u001b[0m\u001b[0minput\u001b[0m\u001b[1;33m,\u001b[0m \u001b[0mtarget\u001b[0m\u001b[1;33m)\u001b[0m \u001b[1;32min\u001b[0m \u001b[0menumerate\u001b[0m\u001b[1;33m(\u001b[0m\u001b[0mdata_loader\u001b[0m\u001b[1;33m)\u001b[0m\u001b[1;33m:\u001b[0m\u001b[1;33m\u001b[0m\u001b[1;33m\u001b[0m\u001b[0m\n\u001b[0m\u001b[0;32m    175\u001b[0m             \u001b[1;31m# measure data loading time\u001b[0m\u001b[1;33m\u001b[0m\u001b[1;33m\u001b[0m\u001b[0m\n\u001b[0;32m    176\u001b[0m             \u001b[0mself\u001b[0m\u001b[1;33m.\u001b[0m\u001b[0mstate\u001b[0m\u001b[1;33m[\u001b[0m\u001b[1;34m'iteration'\u001b[0m\u001b[1;33m]\u001b[0m \u001b[1;33m=\u001b[0m \u001b[0mi\u001b[0m\u001b[1;33m\u001b[0m\u001b[1;33m\u001b[0m\u001b[0m\n",
      "\u001b[1;32m~\\anaconda3\\lib\\site-packages\\tqdm\\std.py\u001b[0m in \u001b[0;36m__iter__\u001b[1;34m(self)\u001b[0m\n\u001b[0;32m   1178\u001b[0m \u001b[1;33m\u001b[0m\u001b[0m\n\u001b[0;32m   1179\u001b[0m         \u001b[1;32mtry\u001b[0m\u001b[1;33m:\u001b[0m\u001b[1;33m\u001b[0m\u001b[1;33m\u001b[0m\u001b[0m\n\u001b[1;32m-> 1180\u001b[1;33m             \u001b[1;32mfor\u001b[0m \u001b[0mobj\u001b[0m \u001b[1;32min\u001b[0m \u001b[0miterable\u001b[0m\u001b[1;33m:\u001b[0m\u001b[1;33m\u001b[0m\u001b[1;33m\u001b[0m\u001b[0m\n\u001b[0m\u001b[0;32m   1181\u001b[0m                 \u001b[1;32myield\u001b[0m \u001b[0mobj\u001b[0m\u001b[1;33m\u001b[0m\u001b[1;33m\u001b[0m\u001b[0m\n\u001b[0;32m   1182\u001b[0m                 \u001b[1;31m# Update and possibly print the progressbar.\u001b[0m\u001b[1;33m\u001b[0m\u001b[1;33m\u001b[0m\u001b[0m\n",
      "\u001b[1;32m~\\anaconda3\\lib\\site-packages\\torch\\utils\\data\\dataloader.py\u001b[0m in \u001b[0;36m__next__\u001b[1;34m(self)\u001b[0m\n\u001b[0;32m    519\u001b[0m             \u001b[1;32mif\u001b[0m \u001b[0mself\u001b[0m\u001b[1;33m.\u001b[0m\u001b[0m_sampler_iter\u001b[0m \u001b[1;32mis\u001b[0m \u001b[1;32mNone\u001b[0m\u001b[1;33m:\u001b[0m\u001b[1;33m\u001b[0m\u001b[1;33m\u001b[0m\u001b[0m\n\u001b[0;32m    520\u001b[0m                 \u001b[0mself\u001b[0m\u001b[1;33m.\u001b[0m\u001b[0m_reset\u001b[0m\u001b[1;33m(\u001b[0m\u001b[1;33m)\u001b[0m\u001b[1;33m\u001b[0m\u001b[1;33m\u001b[0m\u001b[0m\n\u001b[1;32m--> 521\u001b[1;33m             \u001b[0mdata\u001b[0m \u001b[1;33m=\u001b[0m \u001b[0mself\u001b[0m\u001b[1;33m.\u001b[0m\u001b[0m_next_data\u001b[0m\u001b[1;33m(\u001b[0m\u001b[1;33m)\u001b[0m\u001b[1;33m\u001b[0m\u001b[1;33m\u001b[0m\u001b[0m\n\u001b[0m\u001b[0;32m    522\u001b[0m             \u001b[0mself\u001b[0m\u001b[1;33m.\u001b[0m\u001b[0m_num_yielded\u001b[0m \u001b[1;33m+=\u001b[0m \u001b[1;36m1\u001b[0m\u001b[1;33m\u001b[0m\u001b[1;33m\u001b[0m\u001b[0m\n\u001b[0;32m    523\u001b[0m             \u001b[1;32mif\u001b[0m \u001b[0mself\u001b[0m\u001b[1;33m.\u001b[0m\u001b[0m_dataset_kind\u001b[0m \u001b[1;33m==\u001b[0m \u001b[0m_DatasetKind\u001b[0m\u001b[1;33m.\u001b[0m\u001b[0mIterable\u001b[0m \u001b[1;32mand\u001b[0m\u001b[0;31m \u001b[0m\u001b[0;31m\\\u001b[0m\u001b[1;33m\u001b[0m\u001b[1;33m\u001b[0m\u001b[0m\n",
      "\u001b[1;32m~\\anaconda3\\lib\\site-packages\\torch\\utils\\data\\dataloader.py\u001b[0m in \u001b[0;36m_next_data\u001b[1;34m(self)\u001b[0m\n\u001b[0;32m   1201\u001b[0m             \u001b[1;32melse\u001b[0m\u001b[1;33m:\u001b[0m\u001b[1;33m\u001b[0m\u001b[1;33m\u001b[0m\u001b[0m\n\u001b[0;32m   1202\u001b[0m                 \u001b[1;32mdel\u001b[0m \u001b[0mself\u001b[0m\u001b[1;33m.\u001b[0m\u001b[0m_task_info\u001b[0m\u001b[1;33m[\u001b[0m\u001b[0midx\u001b[0m\u001b[1;33m]\u001b[0m\u001b[1;33m\u001b[0m\u001b[1;33m\u001b[0m\u001b[0m\n\u001b[1;32m-> 1203\u001b[1;33m                 \u001b[1;32mreturn\u001b[0m \u001b[0mself\u001b[0m\u001b[1;33m.\u001b[0m\u001b[0m_process_data\u001b[0m\u001b[1;33m(\u001b[0m\u001b[0mdata\u001b[0m\u001b[1;33m)\u001b[0m\u001b[1;33m\u001b[0m\u001b[1;33m\u001b[0m\u001b[0m\n\u001b[0m\u001b[0;32m   1204\u001b[0m \u001b[1;33m\u001b[0m\u001b[0m\n\u001b[0;32m   1205\u001b[0m     \u001b[1;32mdef\u001b[0m \u001b[0m_try_put_index\u001b[0m\u001b[1;33m(\u001b[0m\u001b[0mself\u001b[0m\u001b[1;33m)\u001b[0m\u001b[1;33m:\u001b[0m\u001b[1;33m\u001b[0m\u001b[1;33m\u001b[0m\u001b[0m\n",
      "\u001b[1;32m~\\anaconda3\\lib\\site-packages\\torch\\utils\\data\\dataloader.py\u001b[0m in \u001b[0;36m_process_data\u001b[1;34m(self, data)\u001b[0m\n\u001b[0;32m   1227\u001b[0m         \u001b[0mself\u001b[0m\u001b[1;33m.\u001b[0m\u001b[0m_try_put_index\u001b[0m\u001b[1;33m(\u001b[0m\u001b[1;33m)\u001b[0m\u001b[1;33m\u001b[0m\u001b[1;33m\u001b[0m\u001b[0m\n\u001b[0;32m   1228\u001b[0m         \u001b[1;32mif\u001b[0m \u001b[0misinstance\u001b[0m\u001b[1;33m(\u001b[0m\u001b[0mdata\u001b[0m\u001b[1;33m,\u001b[0m \u001b[0mExceptionWrapper\u001b[0m\u001b[1;33m)\u001b[0m\u001b[1;33m:\u001b[0m\u001b[1;33m\u001b[0m\u001b[1;33m\u001b[0m\u001b[0m\n\u001b[1;32m-> 1229\u001b[1;33m             \u001b[0mdata\u001b[0m\u001b[1;33m.\u001b[0m\u001b[0mreraise\u001b[0m\u001b[1;33m(\u001b[0m\u001b[1;33m)\u001b[0m\u001b[1;33m\u001b[0m\u001b[1;33m\u001b[0m\u001b[0m\n\u001b[0m\u001b[0;32m   1230\u001b[0m         \u001b[1;32mreturn\u001b[0m \u001b[0mdata\u001b[0m\u001b[1;33m\u001b[0m\u001b[1;33m\u001b[0m\u001b[0m\n\u001b[0;32m   1231\u001b[0m \u001b[1;33m\u001b[0m\u001b[0m\n",
      "\u001b[1;32m~\\anaconda3\\lib\\site-packages\\torch\\_utils.py\u001b[0m in \u001b[0;36mreraise\u001b[1;34m(self)\u001b[0m\n\u001b[0;32m    432\u001b[0m             \u001b[1;31m# instantiate since we don't know how to\u001b[0m\u001b[1;33m\u001b[0m\u001b[1;33m\u001b[0m\u001b[0m\n\u001b[0;32m    433\u001b[0m             \u001b[1;32mraise\u001b[0m \u001b[0mRuntimeError\u001b[0m\u001b[1;33m(\u001b[0m\u001b[0mmsg\u001b[0m\u001b[1;33m)\u001b[0m \u001b[1;32mfrom\u001b[0m \u001b[1;32mNone\u001b[0m\u001b[1;33m\u001b[0m\u001b[1;33m\u001b[0m\u001b[0m\n\u001b[1;32m--> 434\u001b[1;33m         \u001b[1;32mraise\u001b[0m \u001b[0mexception\u001b[0m\u001b[1;33m\u001b[0m\u001b[1;33m\u001b[0m\u001b[0m\n\u001b[0m\u001b[0;32m    435\u001b[0m \u001b[1;33m\u001b[0m\u001b[0m\n\u001b[0;32m    436\u001b[0m \u001b[1;33m\u001b[0m\u001b[0m\n",
      "\u001b[1;31mFileNotFoundError\u001b[0m: Caught FileNotFoundError in DataLoader worker process 0.\nOriginal Traceback (most recent call last):\n  File \"C:\\Users\\deter\\anaconda3\\lib\\site-packages\\torch\\utils\\data\\_utils\\worker.py\", line 287, in _worker_loop\n    data = fetcher.fetch(index)\n  File \"C:\\Users\\deter\\anaconda3\\lib\\site-packages\\torch\\utils\\data\\_utils\\fetch.py\", line 49, in fetch\n    data = [self.dataset[idx] for idx in possibly_batched_index]\n  File \"C:\\Users\\deter\\anaconda3\\lib\\site-packages\\torch\\utils\\data\\_utils\\fetch.py\", line 49, in <listcomp>\n    data = [self.dataset[idx] for idx in possibly_batched_index]\n  File \"C:\\SSAFY_second\\ssafy_git\\S06P12B108\\attribute_test\\03.AI모델\\kfashoin_ai_model\\run\\utility\\load_data_c.py\", line 25, in __getitem__\n    return self.get(item)\n  File \"C:\\SSAFY_second\\ssafy_git\\S06P12B108\\attribute_test\\03.AI모델\\kfashoin_ai_model\\run\\utility\\load_data_c.py\", line 34, in get\n    img = Image.open(filename).convert('RGB')\n  File \"C:\\Users\\deter\\anaconda3\\lib\\site-packages\\PIL\\Image.py\", line 2975, in open\n    fp = builtins.open(filename, \"rb\")\nFileNotFoundError: [Errno 2] No such file or directory: '../img/K-fashion_HardSegImgs_aim/48076/48076_하의.jpg'\n"
     ]
    }
   ],
   "source": [
    "if __name__ == '__main__':\n",
    "    startTime = time.time()\n",
    "    print(\"Starting..\")\n",
    "\n",
    "    lst = []\n",
    "    p1, state = run_attribute_classifier(model_name='category')\n",
    "    lst.append(p1)\n",
    "    print(\"[DONE] category time spent :{:.4f}\".format(time.time() - startTime))\n"
   ]
  },
  {
   "cell_type": "code",
   "execution_count": null,
   "id": "e035f671",
   "metadata": {
    "scrolled": false
   },
   "outputs": [],
   "source": [
    "state['input']"
   ]
  },
  {
   "cell_type": "code",
   "execution_count": null,
   "id": "25618934",
   "metadata": {
    "scrolled": false
   },
   "outputs": [],
   "source": [
    "output = state['output'].detach().cpu().numpy()\n",
    "[np.argmax(i) for i in output]"
   ]
  },
  {
   "cell_type": "code",
   "execution_count": null,
   "id": "c8f45d9c",
   "metadata": {
    "scrolled": false
   },
   "outputs": [],
   "source": [
    "target = state['target'].detach().cpu().numpy().tolist()\n",
    "[i.index(1) for i in target]"
   ]
  },
  {
   "cell_type": "code",
   "execution_count": null,
   "id": "d8cddd8b",
   "metadata": {},
   "outputs": [],
   "source": [
    "pd.options.display.float_format = '{:.4f}'.format\n",
    "state['output']"
   ]
  },
  {
   "cell_type": "code",
   "execution_count": null,
   "id": "ad958783",
   "metadata": {
    "scrolled": false
   },
   "outputs": [],
   "source": [
    "state['output']"
   ]
  },
  {
   "cell_type": "code",
   "execution_count": null,
   "id": "a0c6626c",
   "metadata": {},
   "outputs": [],
   "source": [
    "def softmax(x):\n",
    "    e_x = np.exp(x - np.max(x))\n",
    "    return e_x / e_x.sum()\n",
    " "
   ]
  },
  {
   "cell_type": "code",
   "execution_count": null,
   "id": "82d723af",
   "metadata": {},
   "outputs": [],
   "source": [
    "for a in state['output']:\n",
    "    softmax(a)"
   ]
  },
  {
   "cell_type": "code",
   "execution_count": null,
   "id": "7b2238b0",
   "metadata": {},
   "outputs": [],
   "source": [
    "for a in state['output'][0]:\n",
    "    a"
   ]
  }
 ],
 "metadata": {
  "kernelspec": {
   "display_name": "Python 3 (ipykernel)",
   "language": "python",
   "name": "python3"
  },
  "language_info": {
   "codemirror_mode": {
    "name": "ipython",
    "version": 3
   },
   "file_extension": ".py",
   "mimetype": "text/x-python",
   "name": "python",
   "nbconvert_exporter": "python",
   "pygments_lexer": "ipython3",
   "version": "3.9.7"
  }
 },
 "nbformat": 4,
 "nbformat_minor": 5
}
